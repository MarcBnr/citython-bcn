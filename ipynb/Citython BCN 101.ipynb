{
 "cells": [
  {
   "cell_type": "code",
   "execution_count": 73,
   "metadata": {
    "colab": {
     "base_uri": "https://localhost:8080/",
     "height": 102
    },
    "colab_type": "code",
    "executionInfo": {
     "elapsed": 5393,
     "status": "ok",
     "timestamp": 1541695149807,
     "user": {
      "displayName": "Orhan Sonmez",
      "photoUrl": "https://lh4.googleusercontent.com/-CnHFxyP5ZHk/AAAAAAAAAAI/AAAAAAAAAAA/7TpDJ-BVOTU/s64/photo.jpg",
      "userId": "03967085654955294770"
     },
     "user_tz": -60
    },
    "id": "VRr6oxuZMOLY",
    "outputId": "a09c027b-484e-4b78-8f87-09c5ffa85c72"
   },
   "outputs": [
    {
     "name": "stdout",
     "output_type": "stream",
     "text": [
      "Collecting lxml\n",
      "\u001b[?25l  Downloading https://files.pythonhosted.org/packages/e5/14/f4343239f955442da9da1919a99f7311bc5627522741bada61b2349c8def/lxml-4.2.5-cp27-cp27mu-manylinux1_x86_64.whl (5.8MB)\n",
      "\u001b[K    100% |████████████████████████████████| 5.8MB 3.5MB/s \n",
      "\u001b[?25hInstalling collected packages: lxml\n",
      "Successfully installed lxml-4.2.5\n"
     ]
    }
   ],
   "source": [
    "!pip install lxml"
   ]
  },
  {
   "cell_type": "code",
   "execution_count": 0,
   "metadata": {
    "colab": {},
    "colab_type": "code",
    "id": "hCjmsGetCOwW"
   },
   "outputs": [],
   "source": [
    "import pandas as pd\n",
    "import numpy as np"
   ]
  },
  {
   "cell_type": "code",
   "execution_count": 0,
   "metadata": {
    "colab": {},
    "colab_type": "code",
    "id": "YRChwmkiLoF3"
   },
   "outputs": [],
   "source": [
    "import json\n",
    "from lxml import objectify"
   ]
  },
  {
   "cell_type": "markdown",
   "metadata": {
    "colab_type": "text",
    "id": "G5Ekyk8iHbEl"
   },
   "source": [
    "**Mounting Google Drive**"
   ]
  },
  {
   "cell_type": "code",
   "execution_count": 70,
   "metadata": {
    "colab": {
     "base_uri": "https://localhost:8080/",
     "height": 34
    },
    "colab_type": "code",
    "executionInfo": {
     "elapsed": 4361,
     "status": "ok",
     "timestamp": 1541695033322,
     "user": {
      "displayName": "Orhan Sonmez",
      "photoUrl": "https://lh4.googleusercontent.com/-CnHFxyP5ZHk/AAAAAAAAAAI/AAAAAAAAAAA/7TpDJ-BVOTU/s64/photo.jpg",
      "userId": "03967085654955294770"
     },
     "user_tz": -60
    },
    "id": "nv8SmakOEQqn",
    "outputId": "df1cd097-4345-4e28-954b-87e0b25330a2"
   },
   "outputs": [
    {
     "name": "stdout",
     "output_type": "stream",
     "text": [
      "Mounted at /gdrive\n"
     ]
    }
   ],
   "source": [
    "from google.colab import drive\n",
    "\n",
    "drive.mount('/gdrive', force_remount=True)\n",
    "root_dir = '/gdrive/My Drive/Citython BCN/'"
   ]
  },
  {
   "cell_type": "markdown",
   "metadata": {
    "colab_type": "text",
    "id": "m0ehwRjVGSD-"
   },
   "source": [
    "**Uploaded Datasets**"
   ]
  },
  {
   "cell_type": "code",
   "execution_count": 71,
   "metadata": {
    "colab": {
     "base_uri": "https://localhost:8080/",
     "height": 68
    },
    "colab_type": "code",
    "executionInfo": {
     "elapsed": 515,
     "status": "ok",
     "timestamp": 1541695034199,
     "user": {
      "displayName": "Orhan Sonmez",
      "photoUrl": "https://lh4.googleusercontent.com/-CnHFxyP5ZHk/AAAAAAAAAAI/AAAAAAAAAAA/7TpDJ-BVOTU/s64/photo.jpg",
      "userId": "03967085654955294770"
     },
     "user_tz": -60
    },
    "id": "FjkfMjX1F_mI",
    "outputId": "9d11f3e1-87ce-4a72-8d30-8c2d0be43800"
   },
   "outputs": [
    {
     "name": "stdout",
     "output_type": "stream",
     "text": [
      "2018_10_octubre_bicing_us.csv\n",
      "bicing_stations.json\n",
      "arbrat_zona.xml\n"
     ]
    }
   ],
   "source": [
    "import os\n",
    "\n",
    "for f in os.listdir(root_dir + 'data'):\n",
    "  print(f)"
   ]
  },
  {
   "cell_type": "markdown",
   "metadata": {
    "colab_type": "text",
    "id": "g_322TlWHn4D"
   },
   "source": [
    "**Bicing Usage 10/2018**"
   ]
  },
  {
   "cell_type": "code",
   "execution_count": 0,
   "metadata": {
    "colab": {},
    "colab_type": "code",
    "id": "j3kh0dEx_yym"
   },
   "outputs": [],
   "source": [
    "bicing_2018_10 = pd.read_csv(root_dir + 'data/2018_10_octubre_bicing_us.csv')"
   ]
  },
  {
   "cell_type": "code",
   "execution_count": 47,
   "metadata": {
    "colab": {
     "base_uri": "https://localhost:8080/",
     "height": 204
    },
    "colab_type": "code",
    "executionInfo": {
     "elapsed": 585,
     "status": "ok",
     "timestamp": 1541693958171,
     "user": {
      "displayName": "Orhan Sonmez",
      "photoUrl": "https://lh4.googleusercontent.com/-CnHFxyP5ZHk/AAAAAAAAAAI/AAAAAAAAAAA/7TpDJ-BVOTU/s64/photo.jpg",
      "userId": "03967085654955294770"
     },
     "user_tz": -60
    },
    "id": "6ESsUC-SE-8V",
    "outputId": "baebce49-e84d-4255-c752-0714160c3795"
   },
   "outputs": [
    {
     "data": {
      "text/html": [
       "<div>\n",
       "<style scoped>\n",
       "    .dataframe tbody tr th:only-of-type {\n",
       "        vertical-align: middle;\n",
       "    }\n",
       "\n",
       "    .dataframe tbody tr th {\n",
       "        vertical-align: top;\n",
       "    }\n",
       "\n",
       "    .dataframe thead th {\n",
       "        text-align: right;\n",
       "    }\n",
       "</style>\n",
       "<table border=\"1\" class=\"dataframe\">\n",
       "  <thead>\n",
       "    <tr style=\"text-align: right;\">\n",
       "      <th></th>\n",
       "      <th>error</th>\n",
       "      <th>bikesInUsage</th>\n",
       "      <th>electricalBikesInUsage</th>\n",
       "      <th>mechanicalBikesInUsage</th>\n",
       "      <th>dateTime</th>\n",
       "    </tr>\n",
       "  </thead>\n",
       "  <tbody>\n",
       "    <tr>\n",
       "      <th>0</th>\n",
       "      <td>0</td>\n",
       "      <td>577</td>\n",
       "      <td>10</td>\n",
       "      <td>567</td>\n",
       "      <td>2018-10-01 09:33:52</td>\n",
       "    </tr>\n",
       "    <tr>\n",
       "      <th>1</th>\n",
       "      <td>0</td>\n",
       "      <td>490</td>\n",
       "      <td>2</td>\n",
       "      <td>488</td>\n",
       "      <td>2018-10-01 12:20:06</td>\n",
       "    </tr>\n",
       "    <tr>\n",
       "      <th>2</th>\n",
       "      <td>0</td>\n",
       "      <td>607</td>\n",
       "      <td>5</td>\n",
       "      <td>602</td>\n",
       "      <td>2018-10-01 14:03:19</td>\n",
       "    </tr>\n",
       "    <tr>\n",
       "      <th>3</th>\n",
       "      <td>0</td>\n",
       "      <td>620</td>\n",
       "      <td>7</td>\n",
       "      <td>613</td>\n",
       "      <td>2018-10-01 15:05:20</td>\n",
       "    </tr>\n",
       "    <tr>\n",
       "      <th>4</th>\n",
       "      <td>0</td>\n",
       "      <td>657</td>\n",
       "      <td>11</td>\n",
       "      <td>646</td>\n",
       "      <td>2018-10-01 15:16:20</td>\n",
       "    </tr>\n",
       "  </tbody>\n",
       "</table>\n",
       "</div>"
      ],
      "text/plain": [
       "   error  bikesInUsage  electricalBikesInUsage  mechanicalBikesInUsage  \\\n",
       "0      0           577                      10                     567   \n",
       "1      0           490                       2                     488   \n",
       "2      0           607                       5                     602   \n",
       "3      0           620                       7                     613   \n",
       "4      0           657                      11                     646   \n",
       "\n",
       "              dateTime  \n",
       "0  2018-10-01 09:33:52  \n",
       "1  2018-10-01 12:20:06  \n",
       "2  2018-10-01 14:03:19  \n",
       "3  2018-10-01 15:05:20  \n",
       "4  2018-10-01 15:16:20  "
      ]
     },
     "execution_count": 47,
     "metadata": {
      "tags": []
     },
     "output_type": "execute_result"
    }
   ],
   "source": [
    "bicing_2018_10.head()"
   ]
  },
  {
   "cell_type": "markdown",
   "metadata": {
    "colab_type": "text",
    "id": "1PRqF4YuHwmO"
   },
   "source": [
    "**Bicing Stations**"
   ]
  },
  {
   "cell_type": "code",
   "execution_count": 0,
   "metadata": {
    "colab": {},
    "colab_type": "code",
    "id": "dzq9Ck6gICAf"
   },
   "outputs": [],
   "source": [
    "bicing_stations = json.loads(open(root_dir + 'data/bicing_stations.json').read())"
   ]
  },
  {
   "cell_type": "code",
   "execution_count": 65,
   "metadata": {
    "colab": {
     "base_uri": "https://localhost:8080/",
     "height": 204
    },
    "colab_type": "code",
    "executionInfo": {
     "elapsed": 521,
     "status": "ok",
     "timestamp": 1541694370853,
     "user": {
      "displayName": "Orhan Sonmez",
      "photoUrl": "https://lh4.googleusercontent.com/-CnHFxyP5ZHk/AAAAAAAAAAI/AAAAAAAAAAA/7TpDJ-BVOTU/s64/photo.jpg",
      "userId": "03967085654955294770"
     },
     "user_tz": -60
    },
    "id": "gNeqo2xwIrS3",
    "outputId": "b6eb7b67-c4df-4341-a865-a940c86ea45c"
   },
   "outputs": [
    {
     "data": {
      "text/plain": [
       "{u'altitude': u'21',\n",
       " u'bikes': u'26',\n",
       " u'id': u'1',\n",
       " u'latitude': u'41.397952',\n",
       " u'longitude': u'2.180042',\n",
       " u'nearbyStations': u'24, 369, 387, 426',\n",
       " u'slots': u'3',\n",
       " u'status': u'OPN',\n",
       " u'streetName': u'Gran Via Corts Catalanes',\n",
       " u'streetNumber': u'760',\n",
       " u'type': u'BIKE'}"
      ]
     },
     "execution_count": 65,
     "metadata": {
      "tags": []
     },
     "output_type": "execute_result"
    }
   ],
   "source": [
    "bicing_stations['stations'][0]"
   ]
  },
  {
   "cell_type": "markdown",
   "metadata": {
    "colab_type": "text",
    "id": "WHz3USlkLsuW"
   },
   "source": [
    "**Trees of Barcelona**"
   ]
  },
  {
   "cell_type": "code",
   "execution_count": 0,
   "metadata": {
    "colab": {},
    "colab_type": "code",
    "id": "yQck2wPrLvm4"
   },
   "outputs": [],
   "source": [
    "trees = objectify.fromstring(open(root_dir + 'data/arbrat_zona.xml').read())"
   ]
  },
  {
   "cell_type": "code",
   "execution_count": 84,
   "metadata": {
    "colab": {
     "base_uri": "https://localhost:8080/",
     "height": 34
    },
    "colab_type": "code",
    "executionInfo": {
     "elapsed": 574,
     "status": "ok",
     "timestamp": 1541695338168,
     "user": {
      "displayName": "Orhan Sonmez",
      "photoUrl": "https://lh4.googleusercontent.com/-CnHFxyP5ZHk/AAAAAAAAAAI/AAAAAAAAAAA/7TpDJ-BVOTU/s64/photo.jpg",
      "userId": "03967085654955294770"
     },
     "user_tz": -60
    },
    "id": "O-jIh3A6MdEP",
    "outputId": "f5ca07e3-0ed5-419a-b78c-9ef53e705bb6"
   },
   "outputs": [
    {
     "data": {
      "text/plain": [
       "'Pg Fabra i Puig, 449'"
      ]
     },
     "execution_count": 84,
     "metadata": {
      "tags": []
     },
     "output_type": "execute_result"
    }
   ],
   "source": [
    "trees.arbre[0].adreca"
   ]
  }
 ],
 "metadata": {
  "colab": {
   "name": "Citython BCN 101",
   "provenance": [
    {
     "file_id": "https://github.com/orhansonmez/citythonBCN/blob/master/Citython%20BCN%20101.ipynb",
     "timestamp": 1541691891467
    }
   ],
   "version": "0.3.2"
  },
  "kernelspec": {
   "display_name": "Python [default]",
   "language": "python",
   "name": "python3"
  },
  "language_info": {
   "codemirror_mode": {
    "name": "ipython",
    "version": 3
   },
   "file_extension": ".py",
   "mimetype": "text/x-python",
   "name": "python",
   "nbconvert_exporter": "python",
   "pygments_lexer": "ipython3",
   "version": "3.6.5"
  }
 },
 "nbformat": 4,
 "nbformat_minor": 1
}
