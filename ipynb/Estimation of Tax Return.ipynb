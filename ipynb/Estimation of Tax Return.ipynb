{
 "cells": [
  {
   "cell_type": "code",
   "execution_count": 1,
   "metadata": {},
   "outputs": [],
   "source": [
    "import pandas as pd"
   ]
  },
  {
   "cell_type": "markdown",
   "metadata": {},
   "source": [
    "## Data Set"
   ]
  },
  {
   "cell_type": "code",
   "execution_count": 2,
   "metadata": {},
   "outputs": [
    {
     "data": {
      "text/html": [
       "<div>\n",
       "<style scoped>\n",
       "    .dataframe tbody tr th:only-of-type {\n",
       "        vertical-align: middle;\n",
       "    }\n",
       "\n",
       "    .dataframe tbody tr th {\n",
       "        vertical-align: top;\n",
       "    }\n",
       "\n",
       "    .dataframe thead th {\n",
       "        text-align: right;\n",
       "    }\n",
       "</style>\n",
       "<table border=\"1\" class=\"dataframe\">\n",
       "  <thead>\n",
       "    <tr style=\"text-align: right;\">\n",
       "      <th></th>\n",
       "      <th>neighbourhood_rank</th>\n",
       "      <th>accomodation_rank</th>\n",
       "      <th>month_rank</th>\n",
       "      <th>1_over_days</th>\n",
       "      <th>prediction</th>\n",
       "    </tr>\n",
       "  </thead>\n",
       "  <tbody>\n",
       "    <tr>\n",
       "      <th>0</th>\n",
       "      <td>4.1</td>\n",
       "      <td>4</td>\n",
       "      <td>0.068251</td>\n",
       "      <td>0.200000</td>\n",
       "      <td>0.238991</td>\n",
       "    </tr>\n",
       "    <tr>\n",
       "      <th>1</th>\n",
       "      <td>1.3</td>\n",
       "      <td>1</td>\n",
       "      <td>0.101374</td>\n",
       "      <td>0.250000</td>\n",
       "      <td>2.327002</td>\n",
       "    </tr>\n",
       "    <tr>\n",
       "      <th>2</th>\n",
       "      <td>5.3</td>\n",
       "      <td>1</td>\n",
       "      <td>0.101374</td>\n",
       "      <td>1.000000</td>\n",
       "      <td>3.635529</td>\n",
       "    </tr>\n",
       "    <tr>\n",
       "      <th>3</th>\n",
       "      <td>20.5</td>\n",
       "      <td>4</td>\n",
       "      <td>0.059613</td>\n",
       "      <td>0.333333</td>\n",
       "      <td>1.796303</td>\n",
       "    </tr>\n",
       "    <tr>\n",
       "      <th>4</th>\n",
       "      <td>4.1</td>\n",
       "      <td>2</td>\n",
       "      <td>0.101374</td>\n",
       "      <td>0.500000</td>\n",
       "      <td>2.882922</td>\n",
       "    </tr>\n",
       "  </tbody>\n",
       "</table>\n",
       "</div>"
      ],
      "text/plain": [
       "   neighbourhood_rank  accomodation_rank  month_rank  1_over_days  prediction\n",
       "0                 4.1                  4    0.068251     0.200000    0.238991\n",
       "1                 1.3                  1    0.101374     0.250000    2.327002\n",
       "2                 5.3                  1    0.101374     1.000000    3.635529\n",
       "3                20.5                  4    0.059613     0.333333    1.796303\n",
       "4                 4.1                  2    0.101374     0.500000    2.882922"
      ]
     },
     "execution_count": 2,
     "metadata": {},
     "output_type": "execute_result"
    }
   ],
   "source": [
    "visitors = pd.read_csv('../data/gen_test_data_with_labels.csv')\n",
    "visitors.drop(columns=['Unnamed: 0'], inplace=True)\n",
    "visitors.head()"
   ]
  },
  {
   "cell_type": "markdown",
   "metadata": {},
   "source": [
    "## Accomodation Rates"
   ]
  },
  {
   "cell_type": "code",
   "execution_count": 3,
   "metadata": {},
   "outputs": [
    {
     "data": {
      "text/html": [
       "<div>\n",
       "<style scoped>\n",
       "    .dataframe tbody tr th:only-of-type {\n",
       "        vertical-align: middle;\n",
       "    }\n",
       "\n",
       "    .dataframe tbody tr th {\n",
       "        vertical-align: top;\n",
       "    }\n",
       "\n",
       "    .dataframe thead th {\n",
       "        text-align: right;\n",
       "    }\n",
       "</style>\n",
       "<table border=\"1\" class=\"dataframe\">\n",
       "  <thead>\n",
       "    <tr style=\"text-align: right;\">\n",
       "      <th></th>\n",
       "      <th>2017</th>\n",
       "      <th>Luxury</th>\n",
       "      <th>Regular</th>\n",
       "      <th>Budget</th>\n",
       "      <th>Three gold stars</th>\n",
       "      <th>Two gold stars</th>\n",
       "      <th>One gold star</th>\n",
       "      <th>Two and three silver stars</th>\n",
       "      <th>One silver star</th>\n",
       "    </tr>\n",
       "  </thead>\n",
       "  <tbody>\n",
       "    <tr>\n",
       "      <th>0</th>\n",
       "      <td>12</td>\n",
       "      <td>190.51</td>\n",
       "      <td>90.93</td>\n",
       "      <td>55.444</td>\n",
       "      <td>67.53</td>\n",
       "      <td>51.15</td>\n",
       "      <td>62.98</td>\n",
       "      <td>50.94</td>\n",
       "      <td>44.62</td>\n",
       "    </tr>\n",
       "    <tr>\n",
       "      <th>1</th>\n",
       "      <td>11</td>\n",
       "      <td>204.98</td>\n",
       "      <td>94.39</td>\n",
       "      <td>58.554</td>\n",
       "      <td>70.69</td>\n",
       "      <td>54.99</td>\n",
       "      <td>68.20</td>\n",
       "      <td>52.60</td>\n",
       "      <td>46.29</td>\n",
       "    </tr>\n",
       "    <tr>\n",
       "      <th>2</th>\n",
       "      <td>10</td>\n",
       "      <td>244.45</td>\n",
       "      <td>98.68</td>\n",
       "      <td>67.844</td>\n",
       "      <td>72.48</td>\n",
       "      <td>65.93</td>\n",
       "      <td>76.92</td>\n",
       "      <td>63.25</td>\n",
       "      <td>60.64</td>\n",
       "    </tr>\n",
       "    <tr>\n",
       "      <th>3</th>\n",
       "      <td>9</td>\n",
       "      <td>255.69</td>\n",
       "      <td>101.88</td>\n",
       "      <td>70.676</td>\n",
       "      <td>74.44</td>\n",
       "      <td>72.70</td>\n",
       "      <td>76.52</td>\n",
       "      <td>66.91</td>\n",
       "      <td>62.81</td>\n",
       "    </tr>\n",
       "    <tr>\n",
       "      <th>4</th>\n",
       "      <td>8</td>\n",
       "      <td>276.41</td>\n",
       "      <td>127.43</td>\n",
       "      <td>77.502</td>\n",
       "      <td>95.74</td>\n",
       "      <td>74.69</td>\n",
       "      <td>80.57</td>\n",
       "      <td>69.53</td>\n",
       "      <td>66.98</td>\n",
       "    </tr>\n",
       "  </tbody>\n",
       "</table>\n",
       "</div>"
      ],
      "text/plain": [
       "   2017  Luxury  Regular  Budget  Three gold stars  Two gold stars  \\\n",
       "0    12  190.51    90.93  55.444             67.53           51.15   \n",
       "1    11  204.98    94.39  58.554             70.69           54.99   \n",
       "2    10  244.45    98.68  67.844             72.48           65.93   \n",
       "3     9  255.69   101.88  70.676             74.44           72.70   \n",
       "4     8  276.41   127.43  77.502             95.74           74.69   \n",
       "\n",
       "   One gold star  Two and three silver stars  One silver star  \n",
       "0          62.98                       50.94            44.62  \n",
       "1          68.20                       52.60            46.29  \n",
       "2          76.92                       63.25            60.64  \n",
       "3          76.52                       66.91            62.81  \n",
       "4          80.57                       69.53            66.98  "
      ]
     },
     "execution_count": 3,
     "metadata": {},
     "output_type": "execute_result"
    }
   ],
   "source": [
    "rates = pd.read_csv('../data/acc_rates_2017.csv')\n",
    "rates.head()"
   ]
  },
  {
   "cell_type": "markdown",
   "metadata": {},
   "source": [
    "## Monthly Visitors"
   ]
  },
  {
   "cell_type": "code",
   "execution_count": 4,
   "metadata": {},
   "outputs": [
    {
     "data": {
      "text/html": [
       "<div>\n",
       "<style scoped>\n",
       "    .dataframe tbody tr th:only-of-type {\n",
       "        vertical-align: middle;\n",
       "    }\n",
       "\n",
       "    .dataframe tbody tr th {\n",
       "        vertical-align: top;\n",
       "    }\n",
       "\n",
       "    .dataframe thead th {\n",
       "        text-align: right;\n",
       "    }\n",
       "</style>\n",
       "<table border=\"1\" class=\"dataframe\">\n",
       "  <thead>\n",
       "    <tr style=\"text-align: right;\">\n",
       "      <th></th>\n",
       "      <th>Month</th>\n",
       "      <th>Percentage</th>\n",
       "    </tr>\n",
       "  </thead>\n",
       "  <tbody>\n",
       "    <tr>\n",
       "      <th>0</th>\n",
       "      <td>January</td>\n",
       "      <td>0.061647</td>\n",
       "    </tr>\n",
       "    <tr>\n",
       "      <th>1</th>\n",
       "      <td>February</td>\n",
       "      <td>0.067146</td>\n",
       "    </tr>\n",
       "    <tr>\n",
       "      <th>2</th>\n",
       "      <td>March</td>\n",
       "      <td>0.083657</td>\n",
       "    </tr>\n",
       "    <tr>\n",
       "      <th>3</th>\n",
       "      <td>April</td>\n",
       "      <td>0.096346</td>\n",
       "    </tr>\n",
       "    <tr>\n",
       "      <th>4</th>\n",
       "      <td>May</td>\n",
       "      <td>0.097943</td>\n",
       "    </tr>\n",
       "  </tbody>\n",
       "</table>\n",
       "</div>"
      ],
      "text/plain": [
       "      Month  Percentage\n",
       "0   January    0.061647\n",
       "1  February    0.067146\n",
       "2     March    0.083657\n",
       "3     April    0.096346\n",
       "4       May    0.097943"
      ]
     },
     "execution_count": 4,
     "metadata": {},
     "output_type": "execute_result"
    }
   ],
   "source": [
    "months = pd.read_csv('../data/monthly_visitors_percentage.csv')\n",
    "months.head()"
   ]
  },
  {
   "cell_type": "markdown",
   "metadata": {},
   "source": [
    "## Estimation"
   ]
  },
  {
   "cell_type": "code",
   "execution_count": 5,
   "metadata": {},
   "outputs": [],
   "source": [
    "month_ranks = months['Percentage'].tolist()\n",
    "accomodation_types = ['','Budget','Regular','','Luxury']\n",
    "\n",
    "tax_return = 0\n",
    "\n",
    "for _, row in visitors.iterrows():\n",
    "    \n",
    "    accomodation = accomodation_types[int(row['accomodation_rank'])]\n",
    "    month = month_ranks.index(row['month_rank']) + 1\n",
    "    days = (1 / row['1_over_days'])\n",
    "    \n",
    "    rate = float(rates[rates['2017'] == month][accomodation])\n",
    "    tax = float(rate * days * (row['prediction'] / 100))\n",
    "    \n",
    "    tax_return += tax"
   ]
  },
  {
   "cell_type": "markdown",
   "metadata": {},
   "source": [
    "## Tax Per Person Per Night"
   ]
  },
  {
   "cell_type": "code",
   "execution_count": 15,
   "metadata": {},
   "outputs": [
    {
     "name": "stdout",
     "output_type": "stream",
     "text": [
      "2.2456624144336956\n"
     ]
    }
   ],
   "source": [
    "total_days = sum(1 / visitors['1_over_days'])\n",
    "print(tax_return / total_days)"
   ]
  },
  {
   "cell_type": "markdown",
   "metadata": {},
   "source": [
    "## Total Smart Tourism Tax Revenue"
   ]
  },
  {
   "cell_type": "code",
   "execution_count": 7,
   "metadata": {},
   "outputs": [],
   "source": [
    "total_visitors = 29724436"
   ]
  },
  {
   "cell_type": "code",
   "execution_count": 8,
   "metadata": {},
   "outputs": [],
   "source": [
    "tax_return_estimation = tax_return * total_visitors / visitors.shape[0]"
   ]
  },
  {
   "cell_type": "code",
   "execution_count": 9,
   "metadata": {},
   "outputs": [
    {
     "name": "stdout",
     "output_type": "stream",
     "text": [
      "502301641.583685\n"
     ]
    }
   ],
   "source": [
    "print(tax_return_estimation)"
   ]
  }
 ],
 "metadata": {
  "kernelspec": {
   "display_name": "Python [default]",
   "language": "python",
   "name": "python3"
  },
  "language_info": {
   "codemirror_mode": {
    "name": "ipython",
    "version": 3
   },
   "file_extension": ".py",
   "mimetype": "text/x-python",
   "name": "python",
   "nbconvert_exporter": "python",
   "pygments_lexer": "ipython3",
   "version": "3.6.5"
  }
 },
 "nbformat": 4,
 "nbformat_minor": 2
}
