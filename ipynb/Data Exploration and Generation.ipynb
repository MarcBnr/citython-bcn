{
 "cells": [
  {
   "cell_type": "code",
   "execution_count": 116,
   "metadata": {},
   "outputs": [],
   "source": [
    "import numpy as np\n",
    "import pandas as pd\n",
    "import pylab\n",
    "import scipy.stats, scipy\n",
    "\n",
    "import matplotlib.pyplot  as plt\n",
    "import seaborn as sns"
   ]
  },
  {
   "cell_type": "markdown",
   "metadata": {},
   "source": [
    "<h2>Importing and exploring neighbourhood ranking</h2>"
   ]
  },
  {
   "cell_type": "code",
   "execution_count": 336,
   "metadata": {},
   "outputs": [],
   "source": [
    "df_rank = pd.read_csv('neighbourhoods.csv')"
   ]
  },
  {
   "cell_type": "code",
   "execution_count": 337,
   "metadata": {},
   "outputs": [
    {
     "data": {
      "text/html": [
       "<div>\n",
       "<style scoped>\n",
       "    .dataframe tbody tr th:only-of-type {\n",
       "        vertical-align: middle;\n",
       "    }\n",
       "\n",
       "    .dataframe tbody tr th {\n",
       "        vertical-align: top;\n",
       "    }\n",
       "\n",
       "    .dataframe thead th {\n",
       "        text-align: right;\n",
       "    }\n",
       "</style>\n",
       "<table border=\"1\" class=\"dataframe\">\n",
       "  <thead>\n",
       "    <tr style=\"text-align: right;\">\n",
       "      <th></th>\n",
       "      <th>N_Barri</th>\n",
       "      <th>Area</th>\n",
       "      <th>Number of Air BnB Listings</th>\n",
       "      <th>Tourism</th>\n",
       "      <th>Numbers of Apartments</th>\n",
       "      <th>RANK</th>\n",
       "    </tr>\n",
       "  </thead>\n",
       "  <tbody>\n",
       "    <tr>\n",
       "      <th>0</th>\n",
       "      <td>el Barri Gòtic</td>\n",
       "      <td>841,905.08</td>\n",
       "      <td>1218</td>\n",
       "      <td>925</td>\n",
       "      <td>10479</td>\n",
       "      <td>20.5%</td>\n",
       "    </tr>\n",
       "    <tr>\n",
       "      <th>1</th>\n",
       "      <td>la Dreta de l'Eixample</td>\n",
       "      <td>2,123,404.58</td>\n",
       "      <td>1918</td>\n",
       "      <td>947</td>\n",
       "      <td>27051</td>\n",
       "      <td>10.6%</td>\n",
       "    </tr>\n",
       "    <tr>\n",
       "      <th>2</th>\n",
       "      <td>el Raval</td>\n",
       "      <td>1,098,392.91</td>\n",
       "      <td>1398</td>\n",
       "      <td>916</td>\n",
       "      <td>23285</td>\n",
       "      <td>9.9%</td>\n",
       "    </tr>\n",
       "    <tr>\n",
       "      <th>3</th>\n",
       "      <td>Sant Pere, Santa Caterina i la Ribera</td>\n",
       "      <td>1,114,298.81</td>\n",
       "      <td>1041</td>\n",
       "      <td>302</td>\n",
       "      <td>14643</td>\n",
       "      <td>9.2%</td>\n",
       "    </tr>\n",
       "    <tr>\n",
       "      <th>4</th>\n",
       "      <td>la Barceloneta</td>\n",
       "      <td>1,313,867.98</td>\n",
       "      <td>406</td>\n",
       "      <td>228</td>\n",
       "      <td>9233</td>\n",
       "      <td>6.9%</td>\n",
       "    </tr>\n",
       "  </tbody>\n",
       "</table>\n",
       "</div>"
      ],
      "text/plain": [
       "                                 N_Barri          Area  \\\n",
       "0                         el Barri Gòtic    841,905.08   \n",
       "1                 la Dreta de l'Eixample  2,123,404.58   \n",
       "2                               el Raval  1,098,392.91   \n",
       "3  Sant Pere, Santa Caterina i la Ribera  1,114,298.81   \n",
       "4                         la Barceloneta  1,313,867.98   \n",
       "\n",
       "   Number of Air BnB Listings  Tourism  Numbers of Apartments   RANK  \n",
       "0                        1218      925                  10479  20.5%  \n",
       "1                        1918      947                  27051  10.6%  \n",
       "2                        1398      916                  23285   9.9%  \n",
       "3                        1041      302                  14643   9.2%  \n",
       "4                         406      228                   9233   6.9%  "
      ]
     },
     "execution_count": 337,
     "metadata": {},
     "output_type": "execute_result"
    }
   ],
   "source": [
    "df_rank.head()"
   ]
  },
  {
   "cell_type": "code",
   "execution_count": 338,
   "metadata": {},
   "outputs": [
    {
     "data": {
      "text/plain": [
       "(73, 6)"
      ]
     },
     "execution_count": 338,
     "metadata": {},
     "output_type": "execute_result"
    }
   ],
   "source": [
    "df_rank.shape"
   ]
  },
  {
   "cell_type": "markdown",
   "metadata": {},
   "source": [
    "<h3>Calculating touristic apartments per neighbourhood/total touristic apartments in the city</h3>"
   ]
  },
  {
   "cell_type": "code",
   "execution_count": 340,
   "metadata": {},
   "outputs": [
    {
     "data": {
      "text/html": [
       "<div>\n",
       "<style scoped>\n",
       "    .dataframe tbody tr th:only-of-type {\n",
       "        vertical-align: middle;\n",
       "    }\n",
       "\n",
       "    .dataframe tbody tr th {\n",
       "        vertical-align: top;\n",
       "    }\n",
       "\n",
       "    .dataframe thead th {\n",
       "        text-align: right;\n",
       "    }\n",
       "</style>\n",
       "<table border=\"1\" class=\"dataframe\">\n",
       "  <thead>\n",
       "    <tr style=\"text-align: right;\">\n",
       "      <th></th>\n",
       "      <th>N_Barri</th>\n",
       "      <th>Area</th>\n",
       "      <th>Number of Air BnB Listings</th>\n",
       "      <th>Tourism</th>\n",
       "      <th>Numbers of Apartments</th>\n",
       "      <th>RANK</th>\n",
       "    </tr>\n",
       "  </thead>\n",
       "  <tbody>\n",
       "    <tr>\n",
       "      <th>0</th>\n",
       "      <td>el Barri Gòtic</td>\n",
       "      <td>841,905.08</td>\n",
       "      <td>1218</td>\n",
       "      <td>925</td>\n",
       "      <td>10479</td>\n",
       "      <td>20.5</td>\n",
       "    </tr>\n",
       "    <tr>\n",
       "      <th>1</th>\n",
       "      <td>la Dreta de l'Eixample</td>\n",
       "      <td>2,123,404.58</td>\n",
       "      <td>1918</td>\n",
       "      <td>947</td>\n",
       "      <td>27051</td>\n",
       "      <td>10.6</td>\n",
       "    </tr>\n",
       "    <tr>\n",
       "      <th>2</th>\n",
       "      <td>el Raval</td>\n",
       "      <td>1,098,392.91</td>\n",
       "      <td>1398</td>\n",
       "      <td>916</td>\n",
       "      <td>23285</td>\n",
       "      <td>9.9</td>\n",
       "    </tr>\n",
       "    <tr>\n",
       "      <th>3</th>\n",
       "      <td>Sant Pere, Santa Caterina i la Ribera</td>\n",
       "      <td>1,114,298.81</td>\n",
       "      <td>1041</td>\n",
       "      <td>302</td>\n",
       "      <td>14643</td>\n",
       "      <td>9.2</td>\n",
       "    </tr>\n",
       "    <tr>\n",
       "      <th>4</th>\n",
       "      <td>la Barceloneta</td>\n",
       "      <td>1,313,867.98</td>\n",
       "      <td>406</td>\n",
       "      <td>228</td>\n",
       "      <td>9233</td>\n",
       "      <td>6.9</td>\n",
       "    </tr>\n",
       "  </tbody>\n",
       "</table>\n",
       "</div>"
      ],
      "text/plain": [
       "                                 N_Barri          Area  \\\n",
       "0                         el Barri Gòtic    841,905.08   \n",
       "1                 la Dreta de l'Eixample  2,123,404.58   \n",
       "2                               el Raval  1,098,392.91   \n",
       "3  Sant Pere, Santa Caterina i la Ribera  1,114,298.81   \n",
       "4                         la Barceloneta  1,313,867.98   \n",
       "\n",
       "   Number of Air BnB Listings  Tourism  Numbers of Apartments  RANK  \n",
       "0                        1218      925                  10479  20.5  \n",
       "1                        1918      947                  27051  10.6  \n",
       "2                        1398      916                  23285   9.9  \n",
       "3                        1041      302                  14643   9.2  \n",
       "4                         406      228                   9233   6.9  "
      ]
     },
     "execution_count": 340,
     "metadata": {},
     "output_type": "execute_result"
    }
   ],
   "source": [
    "df_rank['RANK'] = df_rank['RANK'].map(lambda x: x.rstrip('%'))\n",
    "df_rank.head()"
   ]
  },
  {
   "cell_type": "code",
   "execution_count": 366,
   "metadata": {},
   "outputs": [
    {
     "data": {
      "text/html": [
       "<div>\n",
       "<style scoped>\n",
       "    .dataframe tbody tr th:only-of-type {\n",
       "        vertical-align: middle;\n",
       "    }\n",
       "\n",
       "    .dataframe tbody tr th {\n",
       "        vertical-align: top;\n",
       "    }\n",
       "\n",
       "    .dataframe thead th {\n",
       "        text-align: right;\n",
       "    }\n",
       "</style>\n",
       "<table border=\"1\" class=\"dataframe\">\n",
       "  <thead>\n",
       "    <tr style=\"text-align: right;\">\n",
       "      <th></th>\n",
       "      <th>N_Barri</th>\n",
       "      <th>Area</th>\n",
       "      <th>Number of Air BnB Listings</th>\n",
       "      <th>Tourism</th>\n",
       "      <th>Numbers of Apartments</th>\n",
       "      <th>RANK</th>\n",
       "      <th>total</th>\n",
       "    </tr>\n",
       "  </thead>\n",
       "  <tbody>\n",
       "    <tr>\n",
       "      <th>0</th>\n",
       "      <td>el Barri Gòtic</td>\n",
       "      <td>841,905.08</td>\n",
       "      <td>1218</td>\n",
       "      <td>925</td>\n",
       "      <td>10479</td>\n",
       "      <td>20.5</td>\n",
       "      <td>2143</td>\n",
       "    </tr>\n",
       "    <tr>\n",
       "      <th>1</th>\n",
       "      <td>la Dreta de l'Eixample</td>\n",
       "      <td>2,123,404.58</td>\n",
       "      <td>1918</td>\n",
       "      <td>947</td>\n",
       "      <td>27051</td>\n",
       "      <td>10.6</td>\n",
       "      <td>2865</td>\n",
       "    </tr>\n",
       "    <tr>\n",
       "      <th>2</th>\n",
       "      <td>el Raval</td>\n",
       "      <td>1,098,392.91</td>\n",
       "      <td>1398</td>\n",
       "      <td>916</td>\n",
       "      <td>23285</td>\n",
       "      <td>9.9</td>\n",
       "      <td>2314</td>\n",
       "    </tr>\n",
       "    <tr>\n",
       "      <th>3</th>\n",
       "      <td>Sant Pere, Santa Caterina i la Ribera</td>\n",
       "      <td>1,114,298.81</td>\n",
       "      <td>1041</td>\n",
       "      <td>302</td>\n",
       "      <td>14643</td>\n",
       "      <td>9.2</td>\n",
       "      <td>1343</td>\n",
       "    </tr>\n",
       "    <tr>\n",
       "      <th>4</th>\n",
       "      <td>la Barceloneta</td>\n",
       "      <td>1,313,867.98</td>\n",
       "      <td>406</td>\n",
       "      <td>228</td>\n",
       "      <td>9233</td>\n",
       "      <td>6.9</td>\n",
       "      <td>634</td>\n",
       "    </tr>\n",
       "  </tbody>\n",
       "</table>\n",
       "</div>"
      ],
      "text/plain": [
       "                                 N_Barri          Area  \\\n",
       "0                         el Barri Gòtic    841,905.08   \n",
       "1                 la Dreta de l'Eixample  2,123,404.58   \n",
       "2                               el Raval  1,098,392.91   \n",
       "3  Sant Pere, Santa Caterina i la Ribera  1,114,298.81   \n",
       "4                         la Barceloneta  1,313,867.98   \n",
       "\n",
       "   Number of Air BnB Listings  Tourism  Numbers of Apartments  RANK  total  \n",
       "0                        1218      925                  10479  20.5   2143  \n",
       "1                        1918      947                  27051  10.6   2865  \n",
       "2                        1398      916                  23285   9.9   2314  \n",
       "3                        1041      302                  14643   9.2   1343  \n",
       "4                         406      228                   9233   6.9    634  "
      ]
     },
     "execution_count": 366,
     "metadata": {},
     "output_type": "execute_result"
    }
   ],
   "source": [
    "df_rank['total'] = df_rank['Number of Air BnB Listings'] + df_rank['Tourism']\n",
    "df_rank.head()"
   ]
  },
  {
   "cell_type": "code",
   "execution_count": 367,
   "metadata": {},
   "outputs": [
    {
     "data": {
      "text/html": [
       "<div>\n",
       "<style scoped>\n",
       "    .dataframe tbody tr th:only-of-type {\n",
       "        vertical-align: middle;\n",
       "    }\n",
       "\n",
       "    .dataframe tbody tr th {\n",
       "        vertical-align: top;\n",
       "    }\n",
       "\n",
       "    .dataframe thead th {\n",
       "        text-align: right;\n",
       "    }\n",
       "</style>\n",
       "<table border=\"1\" class=\"dataframe\">\n",
       "  <thead>\n",
       "    <tr style=\"text-align: right;\">\n",
       "      <th></th>\n",
       "      <th>N_Barri</th>\n",
       "      <th>Area</th>\n",
       "      <th>Number of Air BnB Listings</th>\n",
       "      <th>Tourism</th>\n",
       "      <th>Numbers of Apartments</th>\n",
       "      <th>RANK</th>\n",
       "      <th>total</th>\n",
       "      <th>t_rank</th>\n",
       "    </tr>\n",
       "  </thead>\n",
       "  <tbody>\n",
       "    <tr>\n",
       "      <th>0</th>\n",
       "      <td>el Barri Gòtic</td>\n",
       "      <td>841,905.08</td>\n",
       "      <td>1218</td>\n",
       "      <td>925</td>\n",
       "      <td>10479</td>\n",
       "      <td>20.5</td>\n",
       "      <td>2143</td>\n",
       "      <td>0.080473</td>\n",
       "    </tr>\n",
       "    <tr>\n",
       "      <th>1</th>\n",
       "      <td>la Dreta de l'Eixample</td>\n",
       "      <td>2,123,404.58</td>\n",
       "      <td>1918</td>\n",
       "      <td>947</td>\n",
       "      <td>27051</td>\n",
       "      <td>10.6</td>\n",
       "      <td>2865</td>\n",
       "      <td>0.107585</td>\n",
       "    </tr>\n",
       "    <tr>\n",
       "      <th>2</th>\n",
       "      <td>el Raval</td>\n",
       "      <td>1,098,392.91</td>\n",
       "      <td>1398</td>\n",
       "      <td>916</td>\n",
       "      <td>23285</td>\n",
       "      <td>9.9</td>\n",
       "      <td>2314</td>\n",
       "      <td>0.086894</td>\n",
       "    </tr>\n",
       "    <tr>\n",
       "      <th>3</th>\n",
       "      <td>Sant Pere, Santa Caterina i la Ribera</td>\n",
       "      <td>1,114,298.81</td>\n",
       "      <td>1041</td>\n",
       "      <td>302</td>\n",
       "      <td>14643</td>\n",
       "      <td>9.2</td>\n",
       "      <td>1343</td>\n",
       "      <td>0.050432</td>\n",
       "    </tr>\n",
       "    <tr>\n",
       "      <th>4</th>\n",
       "      <td>la Barceloneta</td>\n",
       "      <td>1,313,867.98</td>\n",
       "      <td>406</td>\n",
       "      <td>228</td>\n",
       "      <td>9233</td>\n",
       "      <td>6.9</td>\n",
       "      <td>634</td>\n",
       "      <td>0.023808</td>\n",
       "    </tr>\n",
       "  </tbody>\n",
       "</table>\n",
       "</div>"
      ],
      "text/plain": [
       "                                 N_Barri          Area  \\\n",
       "0                         el Barri Gòtic    841,905.08   \n",
       "1                 la Dreta de l'Eixample  2,123,404.58   \n",
       "2                               el Raval  1,098,392.91   \n",
       "3  Sant Pere, Santa Caterina i la Ribera  1,114,298.81   \n",
       "4                         la Barceloneta  1,313,867.98   \n",
       "\n",
       "   Number of Air BnB Listings  Tourism  Numbers of Apartments  RANK  total  \\\n",
       "0                        1218      925                  10479  20.5   2143   \n",
       "1                        1918      947                  27051  10.6   2865   \n",
       "2                        1398      916                  23285   9.9   2314   \n",
       "3                        1041      302                  14643   9.2   1343   \n",
       "4                         406      228                   9233   6.9    634   \n",
       "\n",
       "     t_rank  \n",
       "0  0.080473  \n",
       "1  0.107585  \n",
       "2  0.086894  \n",
       "3  0.050432  \n",
       "4  0.023808  "
      ]
     },
     "execution_count": 367,
     "metadata": {},
     "output_type": "execute_result"
    }
   ],
   "source": [
    "df_rank['t_rank'] = df_rank['total']/df_rank['total'].sum()\n",
    "df_rank.head()"
   ]
  },
  {
   "cell_type": "code",
   "execution_count": 368,
   "metadata": {},
   "outputs": [
    {
     "name": "stderr",
     "output_type": "stream",
     "text": [
      "/Users/Pablo/anaconda3/lib/python3.6/site-packages/ipykernel_launcher.py:1: FutureWarning: Method .as_matrix will be removed in a future version. Use .values instead.\n",
      "  \"\"\"Entry point for launching an IPython kernel.\n"
     ]
    },
    {
     "data": {
      "text/plain": [
       "1.0000000000000002"
      ]
     },
     "execution_count": 368,
     "metadata": {},
     "output_type": "execute_result"
    }
   ],
   "source": [
    "p_neigh = df_rank['t_rank'].as_matrix().astype(float)\n",
    "p_neigh_n = p_neigh/p_neigh.sum(axis=0,keepdims=1)\n",
    "p_neigh_n.sum()"
   ]
  },
  {
   "cell_type": "markdown",
   "metadata": {},
   "source": [
    "<h4>Generating trial neighbourhood sample</h4>"
   ]
  },
  {
   "cell_type": "code",
   "execution_count": 360,
   "metadata": {},
   "outputs": [
    {
     "data": {
      "text/plain": [
       "array([14, 14, 55,  0, 17,  6, 36,  7,  0,  0])"
      ]
     },
     "execution_count": 360,
     "metadata": {},
     "output_type": "execute_result"
    }
   ],
   "source": [
    "neigh = np.random.choice(np.arange(0,73), size=(10), p=p_neigh_n).astype(int)\n",
    "neigh"
   ]
  },
  {
   "cell_type": "markdown",
   "metadata": {},
   "source": [
    "<h2>Setting periods of accomodation as per 2017 data</h2>"
   ]
  },
  {
   "cell_type": "code",
   "execution_count": 344,
   "metadata": {},
   "outputs": [
    {
     "name": "stdout",
     "output_type": "stream",
     "text": [
      "[0.068, 0.139, 0.219, 0.192, 0.113]\n",
      "[0.01125 0.01125 0.01125 0.01125 0.01125 0.01125 0.01125 0.01125 0.01125\n",
      " 0.01125 0.01125 0.01125 0.01125 0.01125 0.01125 0.01125 0.01125 0.01125\n",
      " 0.01125 0.01125 0.01125 0.01125 0.01125]\n"
     ]
    }
   ],
   "source": [
    "one_to_four = [0.068, 0.139, 0.219, 0.192, 0.113]\n",
    "five_and_more = (0.27/24) * np.ones(23)\n",
    "\n",
    "print(one_to_four)\n",
    "print(five_and_more)"
   ]
  },
  {
   "cell_type": "code",
   "execution_count": 345,
   "metadata": {},
   "outputs": [
    {
     "name": "stdout",
     "output_type": "stream",
     "text": [
      "0.9897500000000001\n"
     ]
    },
    {
     "data": {
      "text/plain": [
       "array(0.01025)"
      ]
     },
     "execution_count": 345,
     "metadata": {},
     "output_type": "execute_result"
    }
   ],
   "source": [
    "most_p = np.sum(one_to_four)+np.sum(five_and_more)\n",
    "last_p = np.array(1 - most_p)\n",
    "print(most)\n",
    "last"
   ]
  },
  {
   "cell_type": "code",
   "execution_count": 346,
   "metadata": {},
   "outputs": [
    {
     "data": {
      "text/plain": [
       "array([0.068  , 0.139  , 0.219  , 0.192  , 0.113  , 0.01125, 0.01125,\n",
       "       0.01125, 0.01125, 0.01125, 0.01125, 0.01125, 0.01125, 0.01125,\n",
       "       0.01125, 0.01125, 0.01125, 0.01125, 0.01125, 0.01125, 0.01125,\n",
       "       0.01125, 0.01125, 0.01125, 0.01125, 0.01125, 0.01125, 0.01125,\n",
       "       0.01025])"
      ]
     },
     "execution_count": 346,
     "metadata": {},
     "output_type": "execute_result"
    }
   ],
   "source": [
    "p_p = np.concatenate((one_to_four, five_and_more, [last]), axis=0)\n",
    "p_p"
   ]
  },
  {
   "cell_type": "code",
   "execution_count": 347,
   "metadata": {},
   "outputs": [
    {
     "data": {
      "text/plain": [
       "0.9999999999999999"
      ]
     },
     "execution_count": 347,
     "metadata": {},
     "output_type": "execute_result"
    }
   ],
   "source": [
    "np.sum(p_p)"
   ]
  },
  {
   "cell_type": "markdown",
   "metadata": {},
   "source": [
    "<h4>Generating trial periods sample</h4>"
   ]
  },
  {
   "cell_type": "code",
   "execution_count": 358,
   "metadata": {},
   "outputs": [],
   "source": [
    "periods = np.random.choice(np.arange(1,30), size=(10), p=p_p).astype(int)"
   ]
  },
  {
   "cell_type": "code",
   "execution_count": 359,
   "metadata": {},
   "outputs": [
    {
     "data": {
      "text/plain": [
       "array([ 4,  2,  3, 27,  2,  2, 10, 24,  4,  3])"
      ]
     },
     "execution_count": 359,
     "metadata": {},
     "output_type": "execute_result"
    }
   ],
   "source": [
    "periods"
   ]
  },
  {
   "cell_type": "markdown",
   "metadata": {},
   "source": [
    "<h2>Setting type of accomodation as per 2017 data</h2>"
   ]
  },
  {
   "cell_type": "code",
   "execution_count": 352,
   "metadata": {},
   "outputs": [
    {
     "name": "stdout",
     "output_type": "stream",
     "text": [
      "hotel share : 0.6093189964157707\n",
      "apartshare : 0.21385902031063322\n",
      "hostel share : 0.17682198327359616\n",
      "total paid acc: 1.0\n",
      "hotels share 2: 0.6099283154121865\n",
      "Luxury share : 0.2790561529271207\n",
      "Regular share : 0.32354838709677425\n",
      "Budget share : 0.39800477897252096\n"
     ]
    },
    {
     "data": {
      "text/plain": [
       "1.0"
      ]
     },
     "execution_count": 352,
     "metadata": {},
     "output_type": "execute_result"
    }
   ],
   "source": [
    "hotel_share = 0.51/0.837\n",
    "apart_share = 0.179/0.837\n",
    "hostel_share = 0.148/0.837\n",
    "print('hotel share :', hotel_share)\n",
    "print('apartshare :', apart_share)\n",
    "print('hostel share :', hostel_share)\n",
    "\n",
    "paid = hotel_share + apart_share + hostel_share\n",
    "print('total paid acc:', paid)\n",
    "\n",
    "five_s =  0.107 * hotel_share\n",
    "regular_share = 0.531 * hotel_share\n",
    "other_s = 0.363 * hotel_share\n",
    "\n",
    "hotels = five_s + regular + other_s\n",
    "print('hotels share 2:', hotels)\n",
    "\n",
    "luxury_share = five_s + apart_share\n",
    "\n",
    "budget_share = hostel_share + other_s\n",
    "\n",
    "total_acc = luxury_share + regular_share + budget_share\n",
    "\n",
    "print('Luxury share :', luxury_share)\n",
    "print('Regular share :', regular_share)\n",
    "print('Budget share :', budget_share)\n",
    "\n",
    "budget_share_adj = budget_share - (total_acc-1)\n",
    "\n",
    "total_acc_adj = luxury_share + regular_share + budget_share_adj\n",
    "total_acc_adj"
   ]
  },
  {
   "cell_type": "code",
   "execution_count": 353,
   "metadata": {},
   "outputs": [
    {
     "data": {
      "text/plain": [
       "array([0.27905615, 0.32354839, 0.39739546])"
      ]
     },
     "execution_count": 353,
     "metadata": {},
     "output_type": "execute_result"
    }
   ],
   "source": [
    "p_acc = np.concatenate(([luxury_share], [regular_share], [budget_share_adj]), axis=0)\n",
    "p_acc"
   ]
  },
  {
   "cell_type": "markdown",
   "metadata": {},
   "source": [
    "<h4>Generating type of accommodation sample</h4>"
   ]
  },
  {
   "cell_type": "code",
   "execution_count": 361,
   "metadata": {},
   "outputs": [
    {
     "data": {
      "text/plain": [
       "array([1, 1, 2, 4, 2, 1, 1, 2, 1, 1])"
      ]
     },
     "execution_count": 361,
     "metadata": {},
     "output_type": "execute_result"
    }
   ],
   "source": [
    "type_acc = np.random.choice([4,2,1], size=(10), p=p_acc).astype(int)\n",
    "type_acc"
   ]
  },
  {
   "cell_type": "markdown",
   "metadata": {},
   "source": [
    "<h2>Setting seasonality as per 2017 data</h2>"
   ]
  },
  {
   "cell_type": "code",
   "execution_count": 355,
   "metadata": {},
   "outputs": [
    {
     "data": {
      "text/html": [
       "<div>\n",
       "<style scoped>\n",
       "    .dataframe tbody tr th:only-of-type {\n",
       "        vertical-align: middle;\n",
       "    }\n",
       "\n",
       "    .dataframe tbody tr th {\n",
       "        vertical-align: top;\n",
       "    }\n",
       "\n",
       "    .dataframe thead th {\n",
       "        text-align: right;\n",
       "    }\n",
       "</style>\n",
       "<table border=\"1\" class=\"dataframe\">\n",
       "  <thead>\n",
       "    <tr style=\"text-align: right;\">\n",
       "      <th></th>\n",
       "      <th>Month</th>\n",
       "      <th>Percentage</th>\n",
       "    </tr>\n",
       "  </thead>\n",
       "  <tbody>\n",
       "    <tr>\n",
       "      <th>0</th>\n",
       "      <td>January</td>\n",
       "      <td>0.061647</td>\n",
       "    </tr>\n",
       "    <tr>\n",
       "      <th>1</th>\n",
       "      <td>February</td>\n",
       "      <td>0.067146</td>\n",
       "    </tr>\n",
       "    <tr>\n",
       "      <th>2</th>\n",
       "      <td>March</td>\n",
       "      <td>0.083657</td>\n",
       "    </tr>\n",
       "    <tr>\n",
       "      <th>3</th>\n",
       "      <td>April</td>\n",
       "      <td>0.096346</td>\n",
       "    </tr>\n",
       "    <tr>\n",
       "      <th>4</th>\n",
       "      <td>May</td>\n",
       "      <td>0.097943</td>\n",
       "    </tr>\n",
       "    <tr>\n",
       "      <th>5</th>\n",
       "      <td>June</td>\n",
       "      <td>0.096428</td>\n",
       "    </tr>\n",
       "    <tr>\n",
       "      <th>6</th>\n",
       "      <td>July</td>\n",
       "      <td>0.101374</td>\n",
       "    </tr>\n",
       "    <tr>\n",
       "      <th>7</th>\n",
       "      <td>August</td>\n",
       "      <td>0.095854</td>\n",
       "    </tr>\n",
       "    <tr>\n",
       "      <th>8</th>\n",
       "      <td>September</td>\n",
       "      <td>0.088963</td>\n",
       "    </tr>\n",
       "    <tr>\n",
       "      <th>9</th>\n",
       "      <td>October</td>\n",
       "      <td>0.082776</td>\n",
       "    </tr>\n",
       "    <tr>\n",
       "      <th>10</th>\n",
       "      <td>November</td>\n",
       "      <td>0.068251</td>\n",
       "    </tr>\n",
       "    <tr>\n",
       "      <th>11</th>\n",
       "      <td>December</td>\n",
       "      <td>0.059613</td>\n",
       "    </tr>\n",
       "  </tbody>\n",
       "</table>\n",
       "</div>"
      ],
      "text/plain": [
       "        Month  Percentage\n",
       "0     January    0.061647\n",
       "1    February    0.067146\n",
       "2       March    0.083657\n",
       "3       April    0.096346\n",
       "4         May    0.097943\n",
       "5        June    0.096428\n",
       "6        July    0.101374\n",
       "7      August    0.095854\n",
       "8   September    0.088963\n",
       "9     October    0.082776\n",
       "10   November    0.068251\n",
       "11   December    0.059613"
      ]
     },
     "execution_count": 355,
     "metadata": {},
     "output_type": "execute_result"
    }
   ],
   "source": [
    "visitors = pd.read_csv('monthly_visitors_percentage.csv')\n",
    "visitors"
   ]
  },
  {
   "cell_type": "code",
   "execution_count": 356,
   "metadata": {},
   "outputs": [
    {
     "data": {
      "text/plain": [
       "0     0.061647\n",
       "1     0.067146\n",
       "2     0.083657\n",
       "3     0.096346\n",
       "4     0.097943\n",
       "5     0.096428\n",
       "6     0.101374\n",
       "7     0.095854\n",
       "8     0.088963\n",
       "9     0.082776\n",
       "10    0.068251\n",
       "11    0.059613\n",
       "Name: Percentage, dtype: float64"
      ]
     },
     "execution_count": 356,
     "metadata": {},
     "output_type": "execute_result"
    }
   ],
   "source": [
    "visitors['Month'] = visitors.index\n",
    "p_m = visitors['Percentage']\n",
    "p_m"
   ]
  },
  {
   "cell_type": "markdown",
   "metadata": {},
   "source": [
    "<h4>Generating seasonality sample</h4>"
   ]
  },
  {
   "cell_type": "code",
   "execution_count": 362,
   "metadata": {},
   "outputs": [
    {
     "data": {
      "text/plain": [
       "array([ 0,  6,  1,  9,  1,  3,  2,  2,  6, 11])"
      ]
     },
     "execution_count": 362,
     "metadata": {},
     "output_type": "execute_result"
    }
   ],
   "source": [
    "month = np.random.choice(np.arange(0,12), size=(10), p=p_m).astype(int)\n",
    "#month = np.random.normal(loc=6, scale=2.3, size=201).astype(int)\n",
    "month"
   ]
  },
  {
   "cell_type": "markdown",
   "metadata": {},
   "source": [
    "<h2>Building the dataset</h2>"
   ]
  },
  {
   "cell_type": "code",
   "execution_count": 313,
   "metadata": {},
   "outputs": [],
   "source": [
    "df_n['Days'] = periods"
   ]
  },
  {
   "cell_type": "code",
   "execution_count": 314,
   "metadata": {},
   "outputs": [],
   "source": [
    "df_n['Month'] = month"
   ]
  },
  {
   "cell_type": "code",
   "execution_count": 298,
   "metadata": {},
   "outputs": [],
   "source": [
    "df_n['Type_of_Accomodation'] = type_acc"
   ]
  },
  {
   "cell_type": "code",
   "execution_count": 335,
   "metadata": {},
   "outputs": [
    {
     "data": {
      "text/html": [
       "<div>\n",
       "<style scoped>\n",
       "    .dataframe tbody tr th:only-of-type {\n",
       "        vertical-align: middle;\n",
       "    }\n",
       "\n",
       "    .dataframe tbody tr th {\n",
       "        vertical-align: top;\n",
       "    }\n",
       "\n",
       "    .dataframe thead th {\n",
       "        text-align: right;\n",
       "    }\n",
       "</style>\n",
       "<table border=\"1\" class=\"dataframe\">\n",
       "  <thead>\n",
       "    <tr style=\"text-align: right;\">\n",
       "      <th></th>\n",
       "      <th>N_Barri</th>\n",
       "      <th>Days</th>\n",
       "      <th>Month</th>\n",
       "      <th>Type_of_Accomodation</th>\n",
       "      <th>Smart Tax Percentage</th>\n",
       "    </tr>\n",
       "  </thead>\n",
       "  <tbody>\n",
       "    <tr>\n",
       "      <th>0</th>\n",
       "      <td>3</td>\n",
       "      <td>14</td>\n",
       "      <td>0</td>\n",
       "      <td>1</td>\n",
       "      <td>None</td>\n",
       "    </tr>\n",
       "    <tr>\n",
       "      <th>1</th>\n",
       "      <td>27</td>\n",
       "      <td>4</td>\n",
       "      <td>3</td>\n",
       "      <td>0</td>\n",
       "      <td>None</td>\n",
       "    </tr>\n",
       "    <tr>\n",
       "      <th>2</th>\n",
       "      <td>20</td>\n",
       "      <td>3</td>\n",
       "      <td>1</td>\n",
       "      <td>2</td>\n",
       "      <td>None</td>\n",
       "    </tr>\n",
       "    <tr>\n",
       "      <th>3</th>\n",
       "      <td>11</td>\n",
       "      <td>4</td>\n",
       "      <td>3</td>\n",
       "      <td>1</td>\n",
       "      <td>None</td>\n",
       "    </tr>\n",
       "    <tr>\n",
       "      <th>4</th>\n",
       "      <td>1</td>\n",
       "      <td>4</td>\n",
       "      <td>8</td>\n",
       "      <td>2</td>\n",
       "      <td>None</td>\n",
       "    </tr>\n",
       "  </tbody>\n",
       "</table>\n",
       "</div>"
      ],
      "text/plain": [
       "   N_Barri  Days  Month  Type_of_Accomodation Smart Tax Percentage\n",
       "0        3    14      0                     1                 None\n",
       "1       27     4      3                     0                 None\n",
       "2       20     3      1                     2                 None\n",
       "3       11     4      3                     1                 None\n",
       "4        1     4      8                     2                 None"
      ]
     },
     "execution_count": 335,
     "metadata": {},
     "output_type": "execute_result"
    }
   ],
   "source": [
    "df_n['N_Barri'] = neigh\n",
    "df_n.head()"
   ]
  },
  {
   "cell_type": "code",
   "execution_count": null,
   "metadata": {},
   "outputs": [],
   "source": [
    "df_n.to_csv('a_dataset.csv')"
   ]
  },
  {
   "cell_type": "code",
   "execution_count": null,
   "metadata": {},
   "outputs": [],
   "source": [
    "df_rank = pd.read_csv('neighbourhoods.csv')"
   ]
  },
  {
   "cell_type": "code",
   "execution_count": 369,
   "metadata": {},
   "outputs": [],
   "source": [
    "def gentrynator (size, labels = True):\n",
    "    \n",
    "    df_gent = pd.DataFrame()\n",
    "    \n",
    "    df_gent['N_Barri'] = np.random.choice(np.arange(0,73), size=(size), p=p_neigh_n).astype(int)\n",
    "    df_gent['Days'] = np.random.choice(np.arange(1,30), size=(size), p=p_p).astype(int)\n",
    "    df_gent['Month'] = np.random.choice(np.arange(0,12), size=(size), p=p_m).astype(int)\n",
    "    df_gent['Type_of_Accomodation'] = np.random.choice([4,2,1], size=(size), p=p_acc).astype(int)\n",
    "   \n",
    "    return df_gent"
   ]
  },
  {
   "cell_type": "code",
   "execution_count": 380,
   "metadata": {},
   "outputs": [
    {
     "data": {
      "text/html": [
       "<div>\n",
       "<style scoped>\n",
       "    .dataframe tbody tr th:only-of-type {\n",
       "        vertical-align: middle;\n",
       "    }\n",
       "\n",
       "    .dataframe tbody tr th {\n",
       "        vertical-align: top;\n",
       "    }\n",
       "\n",
       "    .dataframe thead th {\n",
       "        text-align: right;\n",
       "    }\n",
       "</style>\n",
       "<table border=\"1\" class=\"dataframe\">\n",
       "  <thead>\n",
       "    <tr style=\"text-align: right;\">\n",
       "      <th></th>\n",
       "      <th>N_Barri</th>\n",
       "      <th>Days</th>\n",
       "      <th>Month</th>\n",
       "      <th>Type_of_Accomodation</th>\n",
       "    </tr>\n",
       "  </thead>\n",
       "  <tbody>\n",
       "    <tr>\n",
       "      <th>0</th>\n",
       "      <td>14</td>\n",
       "      <td>5</td>\n",
       "      <td>10</td>\n",
       "      <td>4</td>\n",
       "    </tr>\n",
       "    <tr>\n",
       "      <th>1</th>\n",
       "      <td>39</td>\n",
       "      <td>4</td>\n",
       "      <td>6</td>\n",
       "      <td>1</td>\n",
       "    </tr>\n",
       "    <tr>\n",
       "      <th>2</th>\n",
       "      <td>7</td>\n",
       "      <td>1</td>\n",
       "      <td>6</td>\n",
       "      <td>1</td>\n",
       "    </tr>\n",
       "    <tr>\n",
       "      <th>3</th>\n",
       "      <td>0</td>\n",
       "      <td>3</td>\n",
       "      <td>11</td>\n",
       "      <td>4</td>\n",
       "    </tr>\n",
       "    <tr>\n",
       "      <th>4</th>\n",
       "      <td>14</td>\n",
       "      <td>2</td>\n",
       "      <td>6</td>\n",
       "      <td>2</td>\n",
       "    </tr>\n",
       "  </tbody>\n",
       "</table>\n",
       "</div>"
      ],
      "text/plain": [
       "   N_Barri  Days  Month  Type_of_Accomodation\n",
       "0       14     5     10                     4\n",
       "1       39     4      6                     1\n",
       "2        7     1      6                     1\n",
       "3        0     3     11                     4\n",
       "4       14     2      6                     2"
      ]
     },
     "execution_count": 380,
     "metadata": {},
     "output_type": "execute_result"
    }
   ],
   "source": [
    "df = gentrynator(1000)\n",
    "df.head()"
   ]
  },
  {
   "cell_type": "code",
   "execution_count": 383,
   "metadata": {},
   "outputs": [],
   "source": [
    "df.to_csv('gen_dataset.csv')"
   ]
  }
 ],
 "metadata": {
  "kernelspec": {
   "display_name": "Python 3",
   "language": "python",
   "name": "python3"
  },
  "language_info": {
   "codemirror_mode": {
    "name": "ipython",
    "version": 3
   },
   "file_extension": ".py",
   "mimetype": "text/x-python",
   "name": "python",
   "nbconvert_exporter": "python",
   "pygments_lexer": "ipython3",
   "version": "3.6.4"
  }
 },
 "nbformat": 4,
 "nbformat_minor": 2
}
