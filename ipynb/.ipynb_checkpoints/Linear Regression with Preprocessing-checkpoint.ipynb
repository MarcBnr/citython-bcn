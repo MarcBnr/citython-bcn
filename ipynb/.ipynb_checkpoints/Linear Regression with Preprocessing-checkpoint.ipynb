{
 "cells": [
  {
   "cell_type": "code",
   "execution_count": 1,
   "metadata": {},
   "outputs": [],
   "source": [
    "import pandas as pd\n",
    "import numpy as np\n",
    "import matplotlib.pyplot as plt\n",
    "\n",
    "from sklearn.linear_model import LinearRegression\n",
    "from sklearn import preprocessing"
   ]
  },
  {
   "cell_type": "code",
   "execution_count": 2,
   "metadata": {},
   "outputs": [],
   "source": [
    "train_data = pd.read_csv('../data/artificial_dataset.csv')"
   ]
  },
  {
   "cell_type": "code",
   "execution_count": 3,
   "metadata": {},
   "outputs": [
    {
     "data": {
      "text/html": [
       "<div>\n",
       "<style scoped>\n",
       "    .dataframe tbody tr th:only-of-type {\n",
       "        vertical-align: middle;\n",
       "    }\n",
       "\n",
       "    .dataframe tbody tr th {\n",
       "        vertical-align: top;\n",
       "    }\n",
       "\n",
       "    .dataframe thead th {\n",
       "        text-align: right;\n",
       "    }\n",
       "</style>\n",
       "<table border=\"1\" class=\"dataframe\">\n",
       "  <thead>\n",
       "    <tr style=\"text-align: right;\">\n",
       "      <th></th>\n",
       "      <th>Neighbourhood</th>\n",
       "      <th>Days</th>\n",
       "      <th>Month</th>\n",
       "      <th>Type of Accomodation</th>\n",
       "      <th>Smart Tax Percentage</th>\n",
       "    </tr>\n",
       "  </thead>\n",
       "  <tbody>\n",
       "    <tr>\n",
       "      <th>0</th>\n",
       "      <td>el Barri Gòtic</td>\n",
       "      <td>1</td>\n",
       "      <td>July</td>\n",
       "      <td>Luxury</td>\n",
       "      <td>23</td>\n",
       "    </tr>\n",
       "    <tr>\n",
       "      <th>1</th>\n",
       "      <td>la Trinitat Nova</td>\n",
       "      <td>29</td>\n",
       "      <td>December</td>\n",
       "      <td>Budget</td>\n",
       "      <td>0</td>\n",
       "    </tr>\n",
       "    <tr>\n",
       "      <th>2</th>\n",
       "      <td>el Barri Gòtic</td>\n",
       "      <td>1</td>\n",
       "      <td>December</td>\n",
       "      <td>Luxury</td>\n",
       "      <td>10</td>\n",
       "    </tr>\n",
       "    <tr>\n",
       "      <th>3</th>\n",
       "      <td>el Barri Gòtic</td>\n",
       "      <td>1</td>\n",
       "      <td>March</td>\n",
       "      <td>Luxury</td>\n",
       "      <td>15</td>\n",
       "    </tr>\n",
       "    <tr>\n",
       "      <th>4</th>\n",
       "      <td>el Barri Gòtic</td>\n",
       "      <td>1</td>\n",
       "      <td>May</td>\n",
       "      <td>Luxury</td>\n",
       "      <td>19</td>\n",
       "    </tr>\n",
       "  </tbody>\n",
       "</table>\n",
       "</div>"
      ],
      "text/plain": [
       "      Neighbourhood  Days     Month Type of Accomodation  Smart Tax Percentage\n",
       "0    el Barri Gòtic     1      July               Luxury                    23\n",
       "1  la Trinitat Nova    29  December               Budget                     0\n",
       "2    el Barri Gòtic     1  December               Luxury                    10\n",
       "3    el Barri Gòtic     1     March               Luxury                    15\n",
       "4    el Barri Gòtic     1       May               Luxury                    19"
      ]
     },
     "execution_count": 3,
     "metadata": {},
     "output_type": "execute_result"
    }
   ],
   "source": [
    "train_data.head()"
   ]
  },
  {
   "cell_type": "code",
   "execution_count": 4,
   "metadata": {},
   "outputs": [],
   "source": [
    "neighbourhoods = pd.read_csv('../data/neighbourhoods.csv')"
   ]
  },
  {
   "cell_type": "code",
   "execution_count": 5,
   "metadata": {},
   "outputs": [
    {
     "data": {
      "text/html": [
       "<div>\n",
       "<style scoped>\n",
       "    .dataframe tbody tr th:only-of-type {\n",
       "        vertical-align: middle;\n",
       "    }\n",
       "\n",
       "    .dataframe tbody tr th {\n",
       "        vertical-align: top;\n",
       "    }\n",
       "\n",
       "    .dataframe thead th {\n",
       "        text-align: right;\n",
       "    }\n",
       "</style>\n",
       "<table border=\"1\" class=\"dataframe\">\n",
       "  <thead>\n",
       "    <tr style=\"text-align: right;\">\n",
       "      <th></th>\n",
       "      <th>N_Barri</th>\n",
       "      <th>Area</th>\n",
       "      <th>Number of Air BnB Listings</th>\n",
       "      <th>Tourism</th>\n",
       "      <th>Numbers of Apartments</th>\n",
       "      <th>RANK</th>\n",
       "    </tr>\n",
       "  </thead>\n",
       "  <tbody>\n",
       "    <tr>\n",
       "      <th>0</th>\n",
       "      <td>el Barri Gòtic</td>\n",
       "      <td>841,905.08</td>\n",
       "      <td>1218</td>\n",
       "      <td>925</td>\n",
       "      <td>10479</td>\n",
       "      <td>20.5%</td>\n",
       "    </tr>\n",
       "    <tr>\n",
       "      <th>1</th>\n",
       "      <td>la Dreta de l'Eixample</td>\n",
       "      <td>2,123,404.58</td>\n",
       "      <td>1918</td>\n",
       "      <td>947</td>\n",
       "      <td>27051</td>\n",
       "      <td>10.6%</td>\n",
       "    </tr>\n",
       "    <tr>\n",
       "      <th>2</th>\n",
       "      <td>el Raval</td>\n",
       "      <td>1,098,392.91</td>\n",
       "      <td>1398</td>\n",
       "      <td>916</td>\n",
       "      <td>23285</td>\n",
       "      <td>9.9%</td>\n",
       "    </tr>\n",
       "    <tr>\n",
       "      <th>3</th>\n",
       "      <td>Sant Pere, Santa Caterina i la Ribera</td>\n",
       "      <td>1,114,298.81</td>\n",
       "      <td>1041</td>\n",
       "      <td>302</td>\n",
       "      <td>14643</td>\n",
       "      <td>9.2%</td>\n",
       "    </tr>\n",
       "    <tr>\n",
       "      <th>4</th>\n",
       "      <td>la Barceloneta</td>\n",
       "      <td>1,313,867.98</td>\n",
       "      <td>406</td>\n",
       "      <td>228</td>\n",
       "      <td>9233</td>\n",
       "      <td>6.9%</td>\n",
       "    </tr>\n",
       "  </tbody>\n",
       "</table>\n",
       "</div>"
      ],
      "text/plain": [
       "                                 N_Barri          Area  \\\n",
       "0                         el Barri Gòtic    841,905.08   \n",
       "1                 la Dreta de l'Eixample  2,123,404.58   \n",
       "2                               el Raval  1,098,392.91   \n",
       "3  Sant Pere, Santa Caterina i la Ribera  1,114,298.81   \n",
       "4                         la Barceloneta  1,313,867.98   \n",
       "\n",
       "   Number of Air BnB Listings  Tourism  Numbers of Apartments   RANK  \n",
       "0                        1218      925                  10479  20.5%  \n",
       "1                        1918      947                  27051  10.6%  \n",
       "2                        1398      916                  23285   9.9%  \n",
       "3                        1041      302                  14643   9.2%  \n",
       "4                         406      228                   9233   6.9%  "
      ]
     },
     "execution_count": 5,
     "metadata": {},
     "output_type": "execute_result"
    }
   ],
   "source": [
    "neighbourhoods.head()"
   ]
  },
  {
   "cell_type": "code",
   "execution_count": 6,
   "metadata": {},
   "outputs": [],
   "source": [
    "monthly_visitors = pd.read_csv('../data/monthly_visitors_percentage.csv')"
   ]
  },
  {
   "cell_type": "code",
   "execution_count": 7,
   "metadata": {},
   "outputs": [
    {
     "data": {
      "text/html": [
       "<div>\n",
       "<style scoped>\n",
       "    .dataframe tbody tr th:only-of-type {\n",
       "        vertical-align: middle;\n",
       "    }\n",
       "\n",
       "    .dataframe tbody tr th {\n",
       "        vertical-align: top;\n",
       "    }\n",
       "\n",
       "    .dataframe thead th {\n",
       "        text-align: right;\n",
       "    }\n",
       "</style>\n",
       "<table border=\"1\" class=\"dataframe\">\n",
       "  <thead>\n",
       "    <tr style=\"text-align: right;\">\n",
       "      <th></th>\n",
       "      <th>Month</th>\n",
       "      <th>Percentage</th>\n",
       "    </tr>\n",
       "  </thead>\n",
       "  <tbody>\n",
       "    <tr>\n",
       "      <th>0</th>\n",
       "      <td>January</td>\n",
       "      <td>0.061647</td>\n",
       "    </tr>\n",
       "    <tr>\n",
       "      <th>1</th>\n",
       "      <td>February</td>\n",
       "      <td>0.067146</td>\n",
       "    </tr>\n",
       "    <tr>\n",
       "      <th>2</th>\n",
       "      <td>March</td>\n",
       "      <td>0.083657</td>\n",
       "    </tr>\n",
       "    <tr>\n",
       "      <th>3</th>\n",
       "      <td>April</td>\n",
       "      <td>0.096346</td>\n",
       "    </tr>\n",
       "    <tr>\n",
       "      <th>4</th>\n",
       "      <td>May</td>\n",
       "      <td>0.097943</td>\n",
       "    </tr>\n",
       "    <tr>\n",
       "      <th>5</th>\n",
       "      <td>June</td>\n",
       "      <td>0.096428</td>\n",
       "    </tr>\n",
       "    <tr>\n",
       "      <th>6</th>\n",
       "      <td>July</td>\n",
       "      <td>0.101374</td>\n",
       "    </tr>\n",
       "    <tr>\n",
       "      <th>7</th>\n",
       "      <td>August</td>\n",
       "      <td>0.095854</td>\n",
       "    </tr>\n",
       "    <tr>\n",
       "      <th>8</th>\n",
       "      <td>September</td>\n",
       "      <td>0.088963</td>\n",
       "    </tr>\n",
       "    <tr>\n",
       "      <th>9</th>\n",
       "      <td>October</td>\n",
       "      <td>0.082776</td>\n",
       "    </tr>\n",
       "    <tr>\n",
       "      <th>10</th>\n",
       "      <td>November</td>\n",
       "      <td>0.068251</td>\n",
       "    </tr>\n",
       "    <tr>\n",
       "      <th>11</th>\n",
       "      <td>December</td>\n",
       "      <td>0.059613</td>\n",
       "    </tr>\n",
       "  </tbody>\n",
       "</table>\n",
       "</div>"
      ],
      "text/plain": [
       "        Month  Percentage\n",
       "0     January    0.061647\n",
       "1    February    0.067146\n",
       "2       March    0.083657\n",
       "3       April    0.096346\n",
       "4         May    0.097943\n",
       "5        June    0.096428\n",
       "6        July    0.101374\n",
       "7      August    0.095854\n",
       "8   September    0.088963\n",
       "9     October    0.082776\n",
       "10   November    0.068251\n",
       "11   December    0.059613"
      ]
     },
     "execution_count": 7,
     "metadata": {},
     "output_type": "execute_result"
    }
   ],
   "source": [
    "monthly_visitors"
   ]
  },
  {
   "cell_type": "code",
   "execution_count": 8,
   "metadata": {},
   "outputs": [],
   "source": [
    "accomodation_types = ['Budget','Regular','Luxury']"
   ]
  },
  {
   "cell_type": "code",
   "execution_count": 9,
   "metadata": {},
   "outputs": [],
   "source": [
    "def preprocessing(df):\n",
    "    \n",
    "    ranks = []\n",
    "    accomodations = []\n",
    "    months = []\n",
    "\n",
    "    for index, row in df.iterrows():\n",
    "\n",
    "        rank_str = neighbourhoods[neighbourhoods['N_Barri'] == row['Neighbourhood']]['RANK'].values[0]\n",
    "        rank = float(rank_str.replace('%',''))\n",
    "        ranks.append(rank)\n",
    "\n",
    "        accomodations.append(2 ** accomodation_types.index(row['Type of Accomodation']))\n",
    "\n",
    "        months.append(monthly_visitors[monthly_visitors['Month'] == row['Month']]['Percentage'].values[0])\n",
    "        \n",
    "    df['neighbourhood_rank'] = ranks\n",
    "    df['accomodation_rank'] = accomodations\n",
    "    df['month_rank'] = months\n",
    "    \n",
    "    df['1_over_days'] = 1 / df['Days']\n",
    "    df.drop(columns=['Days'], inplace=True)\n",
    "    \n",
    "    df.drop(columns=['Neighbourhood','Month','Type of Accomodation'], inplace=True)    \n",
    "    \n",
    "    return df"
   ]
  },
  {
   "cell_type": "code",
   "execution_count": 10,
   "metadata": {},
   "outputs": [],
   "source": [
    "target = 'Smart Tax Percentage'"
   ]
  },
  {
   "cell_type": "code",
   "execution_count": 11,
   "metadata": {},
   "outputs": [],
   "source": [
    "train_data = preprocessing(train_data)"
   ]
  },
  {
   "cell_type": "code",
   "execution_count": 12,
   "metadata": {},
   "outputs": [
    {
     "data": {
      "text/html": [
       "<div>\n",
       "<style scoped>\n",
       "    .dataframe tbody tr th:only-of-type {\n",
       "        vertical-align: middle;\n",
       "    }\n",
       "\n",
       "    .dataframe tbody tr th {\n",
       "        vertical-align: top;\n",
       "    }\n",
       "\n",
       "    .dataframe thead th {\n",
       "        text-align: right;\n",
       "    }\n",
       "</style>\n",
       "<table border=\"1\" class=\"dataframe\">\n",
       "  <thead>\n",
       "    <tr style=\"text-align: right;\">\n",
       "      <th></th>\n",
       "      <th>Smart Tax Percentage</th>\n",
       "      <th>neighbourhood_rank</th>\n",
       "      <th>accomodation_rank</th>\n",
       "      <th>month_rank</th>\n",
       "      <th>1_over_days</th>\n",
       "    </tr>\n",
       "  </thead>\n",
       "  <tbody>\n",
       "    <tr>\n",
       "      <th>0</th>\n",
       "      <td>23</td>\n",
       "      <td>20.5</td>\n",
       "      <td>4</td>\n",
       "      <td>0.101374</td>\n",
       "      <td>1.000000</td>\n",
       "    </tr>\n",
       "    <tr>\n",
       "      <th>1</th>\n",
       "      <td>0</td>\n",
       "      <td>0.2</td>\n",
       "      <td>1</td>\n",
       "      <td>0.059613</td>\n",
       "      <td>0.034483</td>\n",
       "    </tr>\n",
       "    <tr>\n",
       "      <th>2</th>\n",
       "      <td>10</td>\n",
       "      <td>20.5</td>\n",
       "      <td>4</td>\n",
       "      <td>0.059613</td>\n",
       "      <td>1.000000</td>\n",
       "    </tr>\n",
       "    <tr>\n",
       "      <th>3</th>\n",
       "      <td>15</td>\n",
       "      <td>20.5</td>\n",
       "      <td>4</td>\n",
       "      <td>0.083657</td>\n",
       "      <td>1.000000</td>\n",
       "    </tr>\n",
       "    <tr>\n",
       "      <th>4</th>\n",
       "      <td>19</td>\n",
       "      <td>20.5</td>\n",
       "      <td>4</td>\n",
       "      <td>0.097943</td>\n",
       "      <td>1.000000</td>\n",
       "    </tr>\n",
       "    <tr>\n",
       "      <th>5</th>\n",
       "      <td>15</td>\n",
       "      <td>20.5</td>\n",
       "      <td>4</td>\n",
       "      <td>0.088963</td>\n",
       "      <td>1.000000</td>\n",
       "    </tr>\n",
       "    <tr>\n",
       "      <th>6</th>\n",
       "      <td>10</td>\n",
       "      <td>0.2</td>\n",
       "      <td>1</td>\n",
       "      <td>0.101374</td>\n",
       "      <td>0.034483</td>\n",
       "    </tr>\n",
       "    <tr>\n",
       "      <th>7</th>\n",
       "      <td>5</td>\n",
       "      <td>0.2</td>\n",
       "      <td>1</td>\n",
       "      <td>0.097943</td>\n",
       "      <td>0.034483</td>\n",
       "    </tr>\n",
       "    <tr>\n",
       "      <th>8</th>\n",
       "      <td>5</td>\n",
       "      <td>0.2</td>\n",
       "      <td>1</td>\n",
       "      <td>0.088963</td>\n",
       "      <td>0.034483</td>\n",
       "    </tr>\n",
       "    <tr>\n",
       "      <th>9</th>\n",
       "      <td>23</td>\n",
       "      <td>20.5</td>\n",
       "      <td>4</td>\n",
       "      <td>0.101374</td>\n",
       "      <td>1.000000</td>\n",
       "    </tr>\n",
       "    <tr>\n",
       "      <th>10</th>\n",
       "      <td>20</td>\n",
       "      <td>20.5</td>\n",
       "      <td>4</td>\n",
       "      <td>0.101374</td>\n",
       "      <td>0.333333</td>\n",
       "    </tr>\n",
       "    <tr>\n",
       "      <th>11</th>\n",
       "      <td>15</td>\n",
       "      <td>20.5</td>\n",
       "      <td>4</td>\n",
       "      <td>0.101374</td>\n",
       "      <td>0.100000</td>\n",
       "    </tr>\n",
       "    <tr>\n",
       "      <th>12</th>\n",
       "      <td>10</td>\n",
       "      <td>20.5</td>\n",
       "      <td>4</td>\n",
       "      <td>0.101374</td>\n",
       "      <td>0.050000</td>\n",
       "    </tr>\n",
       "    <tr>\n",
       "      <th>13</th>\n",
       "      <td>20</td>\n",
       "      <td>9.9</td>\n",
       "      <td>4</td>\n",
       "      <td>0.101374</td>\n",
       "      <td>1.000000</td>\n",
       "    </tr>\n",
       "    <tr>\n",
       "      <th>14</th>\n",
       "      <td>15</td>\n",
       "      <td>4.1</td>\n",
       "      <td>4</td>\n",
       "      <td>0.101374</td>\n",
       "      <td>1.000000</td>\n",
       "    </tr>\n",
       "    <tr>\n",
       "      <th>15</th>\n",
       "      <td>10</td>\n",
       "      <td>1.3</td>\n",
       "      <td>4</td>\n",
       "      <td>0.101374</td>\n",
       "      <td>1.000000</td>\n",
       "    </tr>\n",
       "  </tbody>\n",
       "</table>\n",
       "</div>"
      ],
      "text/plain": [
       "    Smart Tax Percentage  neighbourhood_rank  accomodation_rank  month_rank  \\\n",
       "0                     23                20.5                  4    0.101374   \n",
       "1                      0                 0.2                  1    0.059613   \n",
       "2                     10                20.5                  4    0.059613   \n",
       "3                     15                20.5                  4    0.083657   \n",
       "4                     19                20.5                  4    0.097943   \n",
       "5                     15                20.5                  4    0.088963   \n",
       "6                     10                 0.2                  1    0.101374   \n",
       "7                      5                 0.2                  1    0.097943   \n",
       "8                      5                 0.2                  1    0.088963   \n",
       "9                     23                20.5                  4    0.101374   \n",
       "10                    20                20.5                  4    0.101374   \n",
       "11                    15                20.5                  4    0.101374   \n",
       "12                    10                20.5                  4    0.101374   \n",
       "13                    20                 9.9                  4    0.101374   \n",
       "14                    15                 4.1                  4    0.101374   \n",
       "15                    10                 1.3                  4    0.101374   \n",
       "\n",
       "    1_over_days  \n",
       "0      1.000000  \n",
       "1      0.034483  \n",
       "2      1.000000  \n",
       "3      1.000000  \n",
       "4      1.000000  \n",
       "5      1.000000  \n",
       "6      0.034483  \n",
       "7      0.034483  \n",
       "8      0.034483  \n",
       "9      1.000000  \n",
       "10     0.333333  \n",
       "11     0.100000  \n",
       "12     0.050000  \n",
       "13     1.000000  \n",
       "14     1.000000  \n",
       "15     1.000000  "
      ]
     },
     "execution_count": 12,
     "metadata": {},
     "output_type": "execute_result"
    }
   ],
   "source": [
    "train_data "
   ]
  },
  {
   "cell_type": "code",
   "execution_count": 13,
   "metadata": {},
   "outputs": [],
   "source": [
    "target = 'Smart Tax Percentage'\n",
    "\n",
    "features = list(train_data.columns)\n",
    "features.remove(target)"
   ]
  },
  {
   "cell_type": "code",
   "execution_count": 14,
   "metadata": {},
   "outputs": [],
   "source": [
    "train_x = train_data[features].values\n",
    "train_y = train_data[target].values"
   ]
  },
  {
   "cell_type": "code",
   "execution_count": 15,
   "metadata": {},
   "outputs": [],
   "source": [
    "linear_regression = LinearRegression().fit(train_x, train_y)"
   ]
  },
  {
   "cell_type": "code",
   "execution_count": 16,
   "metadata": {},
   "outputs": [],
   "source": [
    "test_data = pd.read_csv('../data/test_set.csv')"
   ]
  },
  {
   "cell_type": "code",
   "execution_count": 17,
   "metadata": {},
   "outputs": [
    {
     "data": {
      "text/html": [
       "<div>\n",
       "<style scoped>\n",
       "    .dataframe tbody tr th:only-of-type {\n",
       "        vertical-align: middle;\n",
       "    }\n",
       "\n",
       "    .dataframe tbody tr th {\n",
       "        vertical-align: top;\n",
       "    }\n",
       "\n",
       "    .dataframe thead th {\n",
       "        text-align: right;\n",
       "    }\n",
       "</style>\n",
       "<table border=\"1\" class=\"dataframe\">\n",
       "  <thead>\n",
       "    <tr style=\"text-align: right;\">\n",
       "      <th></th>\n",
       "      <th>Neighbourhood</th>\n",
       "      <th>Days</th>\n",
       "      <th>Month</th>\n",
       "      <th>Type of Accomodation</th>\n",
       "    </tr>\n",
       "  </thead>\n",
       "  <tbody>\n",
       "    <tr>\n",
       "      <th>0</th>\n",
       "      <td>el Barri Gòtic</td>\n",
       "      <td>3</td>\n",
       "      <td>September</td>\n",
       "      <td>Regular</td>\n",
       "    </tr>\n",
       "    <tr>\n",
       "      <th>1</th>\n",
       "      <td>la Sagrera</td>\n",
       "      <td>15</td>\n",
       "      <td>February</td>\n",
       "      <td>Budget</td>\n",
       "    </tr>\n",
       "  </tbody>\n",
       "</table>\n",
       "</div>"
      ],
      "text/plain": [
       "    Neighbourhood  Days      Month Type of Accomodation\n",
       "0  el Barri Gòtic     3  September              Regular\n",
       "1      la Sagrera    15   February               Budget"
      ]
     },
     "execution_count": 17,
     "metadata": {},
     "output_type": "execute_result"
    }
   ],
   "source": [
    "test_data.head()"
   ]
  },
  {
   "cell_type": "code",
   "execution_count": 18,
   "metadata": {},
   "outputs": [],
   "source": [
    "test_data = preprocessing(test_data)"
   ]
  },
  {
   "cell_type": "code",
   "execution_count": 19,
   "metadata": {},
   "outputs": [
    {
     "data": {
      "text/html": [
       "<div>\n",
       "<style scoped>\n",
       "    .dataframe tbody tr th:only-of-type {\n",
       "        vertical-align: middle;\n",
       "    }\n",
       "\n",
       "    .dataframe tbody tr th {\n",
       "        vertical-align: top;\n",
       "    }\n",
       "\n",
       "    .dataframe thead th {\n",
       "        text-align: right;\n",
       "    }\n",
       "</style>\n",
       "<table border=\"1\" class=\"dataframe\">\n",
       "  <thead>\n",
       "    <tr style=\"text-align: right;\">\n",
       "      <th></th>\n",
       "      <th>neighbourhood_rank</th>\n",
       "      <th>accomodation_rank</th>\n",
       "      <th>month_rank</th>\n",
       "      <th>1_over_days</th>\n",
       "    </tr>\n",
       "  </thead>\n",
       "  <tbody>\n",
       "    <tr>\n",
       "      <th>0</th>\n",
       "      <td>20.5</td>\n",
       "      <td>2</td>\n",
       "      <td>0.088963</td>\n",
       "      <td>0.333333</td>\n",
       "    </tr>\n",
       "    <tr>\n",
       "      <th>1</th>\n",
       "      <td>0.7</td>\n",
       "      <td>1</td>\n",
       "      <td>0.067146</td>\n",
       "      <td>0.066667</td>\n",
       "    </tr>\n",
       "  </tbody>\n",
       "</table>\n",
       "</div>"
      ],
      "text/plain": [
       "   neighbourhood_rank  accomodation_rank  month_rank  1_over_days\n",
       "0                20.5                  2    0.088963     0.333333\n",
       "1                 0.7                  1    0.067146     0.066667"
      ]
     },
     "execution_count": 19,
     "metadata": {},
     "output_type": "execute_result"
    }
   ],
   "source": [
    "test_data"
   ]
  },
  {
   "cell_type": "code",
   "execution_count": 20,
   "metadata": {},
   "outputs": [],
   "source": [
    "test_x = test_data[features].values"
   ]
  },
  {
   "cell_type": "code",
   "execution_count": 21,
   "metadata": {},
   "outputs": [
    {
     "data": {
      "text/plain": [
       "array([[20.5       ,  2.        ,  0.08896298,  0.33333333],\n",
       "       [ 0.7       ,  1.        ,  0.0671463 ,  0.06666667]])"
      ]
     },
     "execution_count": 21,
     "metadata": {},
     "output_type": "execute_result"
    }
   ],
   "source": [
    "test_x"
   ]
  },
  {
   "cell_type": "code",
   "execution_count": 22,
   "metadata": {},
   "outputs": [],
   "source": [
    "pred_y = linear_regression.predict(test_x)"
   ]
  },
  {
   "cell_type": "code",
   "execution_count": 23,
   "metadata": {},
   "outputs": [
    {
     "data": {
      "text/plain": [
       "array([15.56762503,  0.19571293])"
      ]
     },
     "execution_count": 23,
     "metadata": {},
     "output_type": "execute_result"
    }
   ],
   "source": [
    "pred_y"
   ]
  },
  {
   "cell_type": "code",
   "execution_count": 24,
   "metadata": {},
   "outputs": [],
   "source": [
    "test_data['prediction'] = pred_y"
   ]
  },
  {
   "cell_type": "code",
   "execution_count": 25,
   "metadata": {},
   "outputs": [
    {
     "data": {
      "text/html": [
       "<div>\n",
       "<style scoped>\n",
       "    .dataframe tbody tr th:only-of-type {\n",
       "        vertical-align: middle;\n",
       "    }\n",
       "\n",
       "    .dataframe tbody tr th {\n",
       "        vertical-align: top;\n",
       "    }\n",
       "\n",
       "    .dataframe thead th {\n",
       "        text-align: right;\n",
       "    }\n",
       "</style>\n",
       "<table border=\"1\" class=\"dataframe\">\n",
       "  <thead>\n",
       "    <tr style=\"text-align: right;\">\n",
       "      <th></th>\n",
       "      <th>neighbourhood_rank</th>\n",
       "      <th>accomodation_rank</th>\n",
       "      <th>month_rank</th>\n",
       "      <th>1_over_days</th>\n",
       "      <th>prediction</th>\n",
       "    </tr>\n",
       "  </thead>\n",
       "  <tbody>\n",
       "    <tr>\n",
       "      <th>0</th>\n",
       "      <td>20.5</td>\n",
       "      <td>2</td>\n",
       "      <td>0.088963</td>\n",
       "      <td>0.333333</td>\n",
       "      <td>15.567625</td>\n",
       "    </tr>\n",
       "    <tr>\n",
       "      <th>1</th>\n",
       "      <td>0.7</td>\n",
       "      <td>1</td>\n",
       "      <td>0.067146</td>\n",
       "      <td>0.066667</td>\n",
       "      <td>0.195713</td>\n",
       "    </tr>\n",
       "  </tbody>\n",
       "</table>\n",
       "</div>"
      ],
      "text/plain": [
       "   neighbourhood_rank  accomodation_rank  month_rank  1_over_days  prediction\n",
       "0                20.5                  2    0.088963     0.333333   15.567625\n",
       "1                 0.7                  1    0.067146     0.066667    0.195713"
      ]
     },
     "execution_count": 25,
     "metadata": {},
     "output_type": "execute_result"
    }
   ],
   "source": [
    "test_data.head()"
   ]
  },
  {
   "cell_type": "code",
   "execution_count": 26,
   "metadata": {},
   "outputs": [
    {
     "data": {
      "text/plain": [
       "array([  0.44757946,  -1.4539002 , 266.65808471,   8.0480462 ])"
      ]
     },
     "execution_count": 26,
     "metadata": {},
     "output_type": "execute_result"
    }
   ],
   "source": [
    "linear_regression.coef_"
   ]
  },
  {
   "cell_type": "code",
   "execution_count": 27,
   "metadata": {},
   "outputs": [],
   "source": [
    "n_days = 15\n",
    "n_months = 12\n",
    "\n",
    "plot_days = np.linspace(29,1,num=n_days)\n",
    "plot_months = np.linspace(0,11,num=n_months)\n",
    "\n",
    "days_grid, months_grid = np.meshgrid(plot_days, plot_months,indexing='ij')\n",
    "predictions = np.ndarray(shape=(n_days,n_months))"
   ]
  },
  {
   "cell_type": "code",
   "execution_count": 28,
   "metadata": {},
   "outputs": [
    {
     "name": "stderr",
     "output_type": "stream",
     "text": [
      "C:\\Anaconda3\\lib\\site-packages\\ipykernel\\__main__.py:12: SettingWithCopyWarning: \n",
      "A value is trying to be set on a copy of a slice from a DataFrame\n",
      "\n",
      "See the caveats in the documentation: http://pandas.pydata.org/pandas-docs/stable/indexing.html#indexing-view-versus-copy\n",
      "C:\\Anaconda3\\lib\\site-packages\\ipykernel\\__main__.py:13: SettingWithCopyWarning: \n",
      "A value is trying to be set on a copy of a slice from a DataFrame\n",
      "\n",
      "See the caveats in the documentation: http://pandas.pydata.org/pandas-docs/stable/indexing.html#indexing-view-versus-copy\n"
     ]
    }
   ],
   "source": [
    "sample = train_data.iloc[0]\n",
    "\n",
    "for d in range(n_days):\n",
    "    for m in range(n_months):\n",
    "\n",
    "        day = days_grid[d,m]\n",
    "        month = months_grid[d,m]\n",
    "        \n",
    "        one_over_day =  1 / day\n",
    "        month_rank = monthly_visitors.at[int(month),'Percentage']       \n",
    "        \n",
    "        sample['month_rank'] = month_rank\n",
    "        sample['1_over_days'] = one_over_day\n",
    "\n",
    "        predictions[d,m] = linear_regression.predict([sample.drop(target)])"
   ]
  },
  {
   "cell_type": "code",
   "execution_count": 29,
   "metadata": {},
   "outputs": [],
   "source": [
    "month_strings = list(reversed(['Dec', 'Nov','Oct', 'Sep', 'Aug', 'Jul', 'Jun', 'May', 'Apr', 'Mar', 'Feb', 'Jan']))"
   ]
  },
  {
   "cell_type": "code",
   "execution_count": 30,
   "metadata": {},
   "outputs": [
    {
     "data": {
      "image/png": "[encoded data removed]",
      "text/plain": [
       "<Figure size 432x288 with 1 Axes>"
      ]
     },
     "metadata": {},
     "output_type": "display_data"
    }
   ],
   "source": [
    "day_ticks = np.array([1,2,3,4,5,7,10,15,20,25])\n",
    "month_repeat = 4\n",
    "\n",
    "fig, ax = plt.subplots()\n",
    "\n",
    "im = ax.imshow(np.repeat(predictions, month_repeat, axis=1), cmap='plasma')\n",
    "\n",
    "ax.set_xticks((np.arange(len(month_strings)) * month_repeat) + month_repeat/2)\n",
    "ax.set_xticklabels(month_strings)\n",
    "ax.set_xlabel('Month of the Year')\n",
    "\n",
    "ax.set_yticks(n_days - day_ticks)\n",
    "ax.set_yticklabels(day_ticks)\n",
    "ax.set_ylabel('Number of Days')\n",
    "\n",
    "# plt.setp(ax.get_xticklabels(), rotation=45, ha=\"right\", rotation_mode=\"anchor\")\n",
    "\n",
    "plt.show()"
   ]
  },
  {
   "cell_type": "code",
   "execution_count": null,
   "metadata": {},
   "outputs": [],
   "source": []
  }
 ],
 "metadata": {
  "kernelspec": {
   "display_name": "Python [default]",
   "language": "python",
   "name": "python3"
  },
  "language_info": {
   "codemirror_mode": {
    "name": "ipython",
    "version": 3
   },
   "file_extension": ".py",
   "mimetype": "text/x-python",
   "name": "python",
   "nbconvert_exporter": "python",
   "pygments_lexer": "ipython3",
   "version": "3.6.5"
  }
 },
 "nbformat": 4,
 "nbformat_minor": 2
}
