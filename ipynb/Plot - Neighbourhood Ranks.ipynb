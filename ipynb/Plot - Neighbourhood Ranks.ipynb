{
 "cells": [
  {
   "cell_type": "code",
   "execution_count": 21,
   "metadata": {},
   "outputs": [],
   "source": [
    "import pandas as pd\n",
    "import numpy as np\n",
    "import matplotlib.pyplot as plt"
   ]
  },
  {
   "cell_type": "code",
   "execution_count": 2,
   "metadata": {},
   "outputs": [],
   "source": [
    "neighbourhoods = pd.read_csv('../data/neighbourhoods.csv')"
   ]
  },
  {
   "cell_type": "code",
   "execution_count": 3,
   "metadata": {},
   "outputs": [
    {
     "data": {
      "text/html": [
       "<div>\n",
       "<style scoped>\n",
       "    .dataframe tbody tr th:only-of-type {\n",
       "        vertical-align: middle;\n",
       "    }\n",
       "\n",
       "    .dataframe tbody tr th {\n",
       "        vertical-align: top;\n",
       "    }\n",
       "\n",
       "    .dataframe thead th {\n",
       "        text-align: right;\n",
       "    }\n",
       "</style>\n",
       "<table border=\"1\" class=\"dataframe\">\n",
       "  <thead>\n",
       "    <tr style=\"text-align: right;\">\n",
       "      <th></th>\n",
       "      <th>N_Barri</th>\n",
       "      <th>Area</th>\n",
       "      <th>Number of Air BnB Listings</th>\n",
       "      <th>Tourism</th>\n",
       "      <th>Numbers of Apartments</th>\n",
       "      <th>RANK</th>\n",
       "    </tr>\n",
       "  </thead>\n",
       "  <tbody>\n",
       "    <tr>\n",
       "      <th>0</th>\n",
       "      <td>el Barri Gòtic</td>\n",
       "      <td>841,905.08</td>\n",
       "      <td>1218</td>\n",
       "      <td>925</td>\n",
       "      <td>10479</td>\n",
       "      <td>20.5%</td>\n",
       "    </tr>\n",
       "    <tr>\n",
       "      <th>1</th>\n",
       "      <td>la Dreta de l'Eixample</td>\n",
       "      <td>2,123,404.58</td>\n",
       "      <td>1918</td>\n",
       "      <td>947</td>\n",
       "      <td>27051</td>\n",
       "      <td>10.6%</td>\n",
       "    </tr>\n",
       "    <tr>\n",
       "      <th>2</th>\n",
       "      <td>el Raval</td>\n",
       "      <td>1,098,392.91</td>\n",
       "      <td>1398</td>\n",
       "      <td>916</td>\n",
       "      <td>23285</td>\n",
       "      <td>9.9%</td>\n",
       "    </tr>\n",
       "    <tr>\n",
       "      <th>3</th>\n",
       "      <td>Sant Pere, Santa Caterina i la Ribera</td>\n",
       "      <td>1,114,298.81</td>\n",
       "      <td>1041</td>\n",
       "      <td>302</td>\n",
       "      <td>14643</td>\n",
       "      <td>9.2%</td>\n",
       "    </tr>\n",
       "    <tr>\n",
       "      <th>4</th>\n",
       "      <td>la Barceloneta</td>\n",
       "      <td>1,313,867.98</td>\n",
       "      <td>406</td>\n",
       "      <td>228</td>\n",
       "      <td>9233</td>\n",
       "      <td>6.9%</td>\n",
       "    </tr>\n",
       "  </tbody>\n",
       "</table>\n",
       "</div>"
      ],
      "text/plain": [
       "                                 N_Barri          Area  \\\n",
       "0                         el Barri Gòtic    841,905.08   \n",
       "1                 la Dreta de l'Eixample  2,123,404.58   \n",
       "2                               el Raval  1,098,392.91   \n",
       "3  Sant Pere, Santa Caterina i la Ribera  1,114,298.81   \n",
       "4                         la Barceloneta  1,313,867.98   \n",
       "\n",
       "   Number of Air BnB Listings  Tourism  Numbers of Apartments   RANK  \n",
       "0                        1218      925                  10479  20.5%  \n",
       "1                        1918      947                  27051  10.6%  \n",
       "2                        1398      916                  23285   9.9%  \n",
       "3                        1041      302                  14643   9.2%  \n",
       "4                         406      228                   9233   6.9%  "
      ]
     },
     "execution_count": 3,
     "metadata": {},
     "output_type": "execute_result"
    }
   ],
   "source": [
    "neighbourhoods.head()"
   ]
  },
  {
   "cell_type": "code",
   "execution_count": 15,
   "metadata": {},
   "outputs": [],
   "source": [
    "ranks = []\n",
    "\n",
    "for _, row in neighbourhoods.iterrows():\n",
    "    ranks.append(float(row['RANK'].replace('%','')))"
   ]
  },
  {
   "cell_type": "code",
   "execution_count": 57,
   "metadata": {},
   "outputs": [
    {
     "data": {
      "image/png": "[encoded data removed]",
      "text/plain": [
       "<Figure size 432x288 with 1 Axes>"
      ]
     },
     "metadata": {},
     "output_type": "display_data"
    }
   ],
   "source": [
    "fig, ax = plt.subplots()\n",
    "\n",
    "plt.bar(np.arange(len(ranks)), ranks)\n",
    "\n",
    "district_indexes = [0,2,8,17,23,32,40,46,56,69]\n",
    "districts = []\n",
    "for district in district_indexes:\n",
    "    districts.append(neighbourhoods.at[district,'N_Barri'])\n",
    "\n",
    "    ax.set_xticklabels(districts)\n",
    "ax.set_xticks(district_indexes)\n",
    "\n",
    "ax.set_xlabel('Neighbourhood')\n",
    "ax.set_ylabel('Neighbourhood Rank')\n",
    "\n",
    "plt.setp(ax.get_xticklabels(), rotation=90, ha=\"right\", rotation_mode=\"anchor\")\n",
    "\n",
    "plt.show()"
   ]
  }
 ],
 "metadata": {
  "kernelspec": {
   "display_name": "Python [default]",
   "language": "python",
   "name": "python3"
  },
  "language_info": {
   "codemirror_mode": {
    "name": "ipython",
    "version": 3
   },
   "file_extension": ".py",
   "mimetype": "text/x-python",
   "name": "python",
   "nbconvert_exporter": "python",
   "pygments_lexer": "ipython3",
   "version": "3.6.5"
  }
 },
 "nbformat": 4,
 "nbformat_minor": 2
}
